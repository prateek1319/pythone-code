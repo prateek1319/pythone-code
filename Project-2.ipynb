{
 "cells": [
  {
   "cell_type": "code",
   "execution_count": 2,
   "metadata": {
    "scrolled": true
   },
   "outputs": [],
   "source": [
    "#Load libraries\n",
    "import os\n",
    "import pandas as pd\n",
    "import numpy as np   \n",
    "import matplotlib.pyplot as plt\n",
    "from scipy.stats import chi2_contingency\n",
    "import seaborn as sns\n",
    "from random import randrange, uniform\n",
    "from fancyimpute import KNN"
   ]
  },
  {
   "cell_type": "code",
   "execution_count": 3,
   "metadata": {
    "scrolled": true
   },
   "outputs": [],
   "source": [
    "#Set working directory\n",
    "os.chdir(\"F:\\project2\")"
   ]
  },
  {
   "cell_type": "code",
   "execution_count": 4,
   "metadata": {},
   "outputs": [],
   "source": [
    "#Load data\n",
    "absent = pd.read_excel(\"Absent.xls\")"
   ]
  },
  {
   "cell_type": "code",
   "execution_count": 5,
   "metadata": {},
   "outputs": [
    {
     "data": {
      "text/plain": [
       "(740, 21)"
      ]
     },
     "execution_count": 5,
     "metadata": {},
     "output_type": "execute_result"
    }
   ],
   "source": [
    "# Shape Dataframe\n",
    "absent.shape"
   ]
  },
  {
   "cell_type": "code",
   "execution_count": 6,
   "metadata": {},
   "outputs": [
    {
     "data": {
      "text/html": [
       "<div>\n",
       "<style scoped>\n",
       "    .dataframe tbody tr th:only-of-type {\n",
       "        vertical-align: middle;\n",
       "    }\n",
       "\n",
       "    .dataframe tbody tr th {\n",
       "        vertical-align: top;\n",
       "    }\n",
       "\n",
       "    .dataframe thead th {\n",
       "        text-align: right;\n",
       "    }\n",
       "</style>\n",
       "<table border=\"1\" class=\"dataframe\">\n",
       "  <thead>\n",
       "    <tr style=\"text-align: right;\">\n",
       "      <th></th>\n",
       "      <th>ID</th>\n",
       "      <th>Reason for absence</th>\n",
       "      <th>Month of absence</th>\n",
       "      <th>Day of the week</th>\n",
       "      <th>Seasons</th>\n",
       "      <th>Transportation expense</th>\n",
       "      <th>Distance from Residence to Work</th>\n",
       "      <th>Service time</th>\n",
       "      <th>Age</th>\n",
       "      <th>Work load Average/day</th>\n",
       "      <th>...</th>\n",
       "      <th>Disciplinary failure</th>\n",
       "      <th>Education</th>\n",
       "      <th>Son</th>\n",
       "      <th>Social drinker</th>\n",
       "      <th>Social smoker</th>\n",
       "      <th>Pet</th>\n",
       "      <th>Weight</th>\n",
       "      <th>Height</th>\n",
       "      <th>Body mass index</th>\n",
       "      <th>Absenteeism time in hours</th>\n",
       "    </tr>\n",
       "  </thead>\n",
       "  <tbody>\n",
       "    <tr>\n",
       "      <th>0</th>\n",
       "      <td>11</td>\n",
       "      <td>26.0</td>\n",
       "      <td>7.0</td>\n",
       "      <td>3</td>\n",
       "      <td>1</td>\n",
       "      <td>289.0</td>\n",
       "      <td>36.0</td>\n",
       "      <td>13.0</td>\n",
       "      <td>33.0</td>\n",
       "      <td>239554.0</td>\n",
       "      <td>...</td>\n",
       "      <td>0.0</td>\n",
       "      <td>1.0</td>\n",
       "      <td>2.0</td>\n",
       "      <td>1.0</td>\n",
       "      <td>0.0</td>\n",
       "      <td>1.0</td>\n",
       "      <td>90.0</td>\n",
       "      <td>172.0</td>\n",
       "      <td>30.0</td>\n",
       "      <td>4.0</td>\n",
       "    </tr>\n",
       "    <tr>\n",
       "      <th>1</th>\n",
       "      <td>36</td>\n",
       "      <td>0.0</td>\n",
       "      <td>7.0</td>\n",
       "      <td>3</td>\n",
       "      <td>1</td>\n",
       "      <td>118.0</td>\n",
       "      <td>13.0</td>\n",
       "      <td>18.0</td>\n",
       "      <td>50.0</td>\n",
       "      <td>239554.0</td>\n",
       "      <td>...</td>\n",
       "      <td>1.0</td>\n",
       "      <td>1.0</td>\n",
       "      <td>1.0</td>\n",
       "      <td>1.0</td>\n",
       "      <td>0.0</td>\n",
       "      <td>0.0</td>\n",
       "      <td>98.0</td>\n",
       "      <td>178.0</td>\n",
       "      <td>31.0</td>\n",
       "      <td>0.0</td>\n",
       "    </tr>\n",
       "    <tr>\n",
       "      <th>2</th>\n",
       "      <td>3</td>\n",
       "      <td>23.0</td>\n",
       "      <td>7.0</td>\n",
       "      <td>4</td>\n",
       "      <td>1</td>\n",
       "      <td>179.0</td>\n",
       "      <td>51.0</td>\n",
       "      <td>18.0</td>\n",
       "      <td>38.0</td>\n",
       "      <td>239554.0</td>\n",
       "      <td>...</td>\n",
       "      <td>0.0</td>\n",
       "      <td>1.0</td>\n",
       "      <td>0.0</td>\n",
       "      <td>1.0</td>\n",
       "      <td>0.0</td>\n",
       "      <td>0.0</td>\n",
       "      <td>89.0</td>\n",
       "      <td>170.0</td>\n",
       "      <td>31.0</td>\n",
       "      <td>2.0</td>\n",
       "    </tr>\n",
       "    <tr>\n",
       "      <th>3</th>\n",
       "      <td>7</td>\n",
       "      <td>7.0</td>\n",
       "      <td>7.0</td>\n",
       "      <td>5</td>\n",
       "      <td>1</td>\n",
       "      <td>279.0</td>\n",
       "      <td>5.0</td>\n",
       "      <td>14.0</td>\n",
       "      <td>39.0</td>\n",
       "      <td>239554.0</td>\n",
       "      <td>...</td>\n",
       "      <td>0.0</td>\n",
       "      <td>1.0</td>\n",
       "      <td>2.0</td>\n",
       "      <td>1.0</td>\n",
       "      <td>1.0</td>\n",
       "      <td>0.0</td>\n",
       "      <td>68.0</td>\n",
       "      <td>168.0</td>\n",
       "      <td>24.0</td>\n",
       "      <td>4.0</td>\n",
       "    </tr>\n",
       "    <tr>\n",
       "      <th>4</th>\n",
       "      <td>11</td>\n",
       "      <td>23.0</td>\n",
       "      <td>7.0</td>\n",
       "      <td>5</td>\n",
       "      <td>1</td>\n",
       "      <td>289.0</td>\n",
       "      <td>36.0</td>\n",
       "      <td>13.0</td>\n",
       "      <td>33.0</td>\n",
       "      <td>239554.0</td>\n",
       "      <td>...</td>\n",
       "      <td>0.0</td>\n",
       "      <td>1.0</td>\n",
       "      <td>2.0</td>\n",
       "      <td>1.0</td>\n",
       "      <td>0.0</td>\n",
       "      <td>1.0</td>\n",
       "      <td>90.0</td>\n",
       "      <td>172.0</td>\n",
       "      <td>30.0</td>\n",
       "      <td>2.0</td>\n",
       "    </tr>\n",
       "  </tbody>\n",
       "</table>\n",
       "<p>5 rows × 21 columns</p>\n",
       "</div>"
      ],
      "text/plain": [
       "   ID  Reason for absence  Month of absence  Day of the week  Seasons  \\\n",
       "0  11                26.0               7.0                3        1   \n",
       "1  36                 0.0               7.0                3        1   \n",
       "2   3                23.0               7.0                4        1   \n",
       "3   7                 7.0               7.0                5        1   \n",
       "4  11                23.0               7.0                5        1   \n",
       "\n",
       "   Transportation expense  Distance from Residence to Work  Service time  \\\n",
       "0                   289.0                             36.0          13.0   \n",
       "1                   118.0                             13.0          18.0   \n",
       "2                   179.0                             51.0          18.0   \n",
       "3                   279.0                              5.0          14.0   \n",
       "4                   289.0                             36.0          13.0   \n",
       "\n",
       "    Age  Work load Average/day             ...              \\\n",
       "0  33.0                239554.0            ...               \n",
       "1  50.0                239554.0            ...               \n",
       "2  38.0                239554.0            ...               \n",
       "3  39.0                239554.0            ...               \n",
       "4  33.0                239554.0            ...               \n",
       "\n",
       "   Disciplinary failure  Education  Son  Social drinker  Social smoker  Pet  \\\n",
       "0                   0.0        1.0  2.0             1.0            0.0  1.0   \n",
       "1                   1.0        1.0  1.0             1.0            0.0  0.0   \n",
       "2                   0.0        1.0  0.0             1.0            0.0  0.0   \n",
       "3                   0.0        1.0  2.0             1.0            1.0  0.0   \n",
       "4                   0.0        1.0  2.0             1.0            0.0  1.0   \n",
       "\n",
       "   Weight  Height  Body mass index  Absenteeism time in hours  \n",
       "0    90.0   172.0             30.0                        4.0  \n",
       "1    98.0   178.0             31.0                        0.0  \n",
       "2    89.0   170.0             31.0                        2.0  \n",
       "3    68.0   168.0             24.0                        4.0  \n",
       "4    90.0   172.0             30.0                        2.0  \n",
       "\n",
       "[5 rows x 21 columns]"
      ]
     },
     "execution_count": 6,
     "metadata": {},
     "output_type": "execute_result"
    }
   ],
   "source": [
    "# Checking Dataframe\n",
    "absent.head(5)"
   ]
  },
  {
   "cell_type": "markdown",
   "metadata": {},
   "source": [
    "## Missing Value Analysis\n"
   ]
  },
  {
   "cell_type": "code",
   "execution_count": 7,
   "metadata": {},
   "outputs": [],
   "source": [
    "# #Create dataframe with missing percentage\n",
    "missing_val = pd.DataFrame(absent.isnull().sum())\n",
    "\n",
    "# #Reset index\n",
    "missing_val = missing_val.reset_index()\n",
    "\n",
    "# #Rename variable\n",
    "missing_val = missing_val.rename(columns = {'index': 'Variables', 0: 'Missing_percentage'})\n",
    "\n",
    "# #Calculate percentage\n",
    "missing_val['Missing_percentage'] = (missing_val['Missing_percentage']/len(absent))*100\n",
    "\n",
    "# #descending order\n",
    "missing_val = missing_val.sort_values('Missing_percentage', ascending = False).reset_index(drop = True)\n",
    "\n",
    "# #save output results \n",
    " #missing_val.to_csv(\"Miising_perc.csv\", inex = False)"
   ]
  },
  {
   "cell_type": "code",
   "execution_count": 8,
   "metadata": {},
   "outputs": [
    {
     "data": {
      "text/html": [
       "<div>\n",
       "<style scoped>\n",
       "    .dataframe tbody tr th:only-of-type {\n",
       "        vertical-align: middle;\n",
       "    }\n",
       "\n",
       "    .dataframe tbody tr th {\n",
       "        vertical-align: top;\n",
       "    }\n",
       "\n",
       "    .dataframe thead th {\n",
       "        text-align: right;\n",
       "    }\n",
       "</style>\n",
       "<table border=\"1\" class=\"dataframe\">\n",
       "  <thead>\n",
       "    <tr style=\"text-align: right;\">\n",
       "      <th></th>\n",
       "      <th>Variables</th>\n",
       "      <th>Missing_percentage</th>\n",
       "    </tr>\n",
       "  </thead>\n",
       "  <tbody>\n",
       "    <tr>\n",
       "      <th>0</th>\n",
       "      <td>Body mass index</td>\n",
       "      <td>4.189189</td>\n",
       "    </tr>\n",
       "    <tr>\n",
       "      <th>1</th>\n",
       "      <td>Absenteeism time in hours</td>\n",
       "      <td>2.972973</td>\n",
       "    </tr>\n",
       "    <tr>\n",
       "      <th>2</th>\n",
       "      <td>Height</td>\n",
       "      <td>1.891892</td>\n",
       "    </tr>\n",
       "    <tr>\n",
       "      <th>3</th>\n",
       "      <td>Work load Average/day</td>\n",
       "      <td>1.351351</td>\n",
       "    </tr>\n",
       "    <tr>\n",
       "      <th>4</th>\n",
       "      <td>Education</td>\n",
       "      <td>1.351351</td>\n",
       "    </tr>\n",
       "    <tr>\n",
       "      <th>5</th>\n",
       "      <td>Transportation expense</td>\n",
       "      <td>0.945946</td>\n",
       "    </tr>\n",
       "    <tr>\n",
       "      <th>6</th>\n",
       "      <td>Son</td>\n",
       "      <td>0.810811</td>\n",
       "    </tr>\n",
       "    <tr>\n",
       "      <th>7</th>\n",
       "      <td>Disciplinary failure</td>\n",
       "      <td>0.810811</td>\n",
       "    </tr>\n",
       "    <tr>\n",
       "      <th>8</th>\n",
       "      <td>Hit target</td>\n",
       "      <td>0.810811</td>\n",
       "    </tr>\n",
       "    <tr>\n",
       "      <th>9</th>\n",
       "      <td>Social smoker</td>\n",
       "      <td>0.540541</td>\n",
       "    </tr>\n",
       "    <tr>\n",
       "      <th>10</th>\n",
       "      <td>Age</td>\n",
       "      <td>0.405405</td>\n",
       "    </tr>\n",
       "    <tr>\n",
       "      <th>11</th>\n",
       "      <td>Reason for absence</td>\n",
       "      <td>0.405405</td>\n",
       "    </tr>\n",
       "    <tr>\n",
       "      <th>12</th>\n",
       "      <td>Service time</td>\n",
       "      <td>0.405405</td>\n",
       "    </tr>\n",
       "    <tr>\n",
       "      <th>13</th>\n",
       "      <td>Distance from Residence to Work</td>\n",
       "      <td>0.405405</td>\n",
       "    </tr>\n",
       "    <tr>\n",
       "      <th>14</th>\n",
       "      <td>Social drinker</td>\n",
       "      <td>0.405405</td>\n",
       "    </tr>\n",
       "    <tr>\n",
       "      <th>15</th>\n",
       "      <td>Pet</td>\n",
       "      <td>0.270270</td>\n",
       "    </tr>\n",
       "    <tr>\n",
       "      <th>16</th>\n",
       "      <td>Weight</td>\n",
       "      <td>0.135135</td>\n",
       "    </tr>\n",
       "    <tr>\n",
       "      <th>17</th>\n",
       "      <td>Month of absence</td>\n",
       "      <td>0.135135</td>\n",
       "    </tr>\n",
       "    <tr>\n",
       "      <th>18</th>\n",
       "      <td>Seasons</td>\n",
       "      <td>0.000000</td>\n",
       "    </tr>\n",
       "    <tr>\n",
       "      <th>19</th>\n",
       "      <td>Day of the week</td>\n",
       "      <td>0.000000</td>\n",
       "    </tr>\n",
       "    <tr>\n",
       "      <th>20</th>\n",
       "      <td>ID</td>\n",
       "      <td>0.000000</td>\n",
       "    </tr>\n",
       "  </tbody>\n",
       "</table>\n",
       "</div>"
      ],
      "text/plain": [
       "                          Variables  Missing_percentage\n",
       "0                   Body mass index            4.189189\n",
       "1         Absenteeism time in hours            2.972973\n",
       "2                            Height            1.891892\n",
       "3            Work load Average/day             1.351351\n",
       "4                         Education            1.351351\n",
       "5            Transportation expense            0.945946\n",
       "6                               Son            0.810811\n",
       "7              Disciplinary failure            0.810811\n",
       "8                        Hit target            0.810811\n",
       "9                     Social smoker            0.540541\n",
       "10                              Age            0.405405\n",
       "11               Reason for absence            0.405405\n",
       "12                     Service time            0.405405\n",
       "13  Distance from Residence to Work            0.405405\n",
       "14                   Social drinker            0.405405\n",
       "15                              Pet            0.270270\n",
       "16                           Weight            0.135135\n",
       "17                 Month of absence            0.135135\n",
       "18                          Seasons            0.000000\n",
       "19                  Day of the week            0.000000\n",
       "20                               ID            0.000000"
      ]
     },
     "execution_count": 8,
     "metadata": {},
     "output_type": "execute_result"
    }
   ],
   "source": [
    "missing_val"
   ]
  },
  {
   "cell_type": "code",
   "execution_count": 9,
   "metadata": {},
   "outputs": [
    {
     "data": {
      "text/plain": [
       "Index(['ID', 'Reason for absence', 'Month of absence', 'Day of the week',\n",
       "       'Seasons', 'Transportation expense', 'Distance from Residence to Work',\n",
       "       'Service time', 'Age', 'Work load Average/day ', 'Hit target',\n",
       "       'Disciplinary failure', 'Education', 'Son', 'Social drinker',\n",
       "       'Social smoker', 'Pet', 'Weight', 'Height', 'Body mass index',\n",
       "       'Absenteeism time in hours'],\n",
       "      dtype='object')"
      ]
     },
     "execution_count": 9,
     "metadata": {},
     "output_type": "execute_result"
    }
   ],
   "source": [
    "absent.columns"
   ]
  },
  {
   "cell_type": "code",
   "execution_count": 10,
   "metadata": {},
   "outputs": [],
   "source": [
    "# Those variables whose values are same for same value of 'ID'\n",
    "same=['Distance from Residence to Work','Age','Transportation expense','Service time',\n",
    "      'Education','Son','Social drinker','Social smoker', 'Pet', 'Weight', 'Height', 'Body mass index']"
   ]
  },
  {
   "cell_type": "code",
   "execution_count": 11,
   "metadata": {
    "scrolled": false
   },
   "outputs": [],
   "source": [
    "# Imptuting those variable whose values are same for particular employee(i.e those column values which remain same for same \"ID\" value)\n",
    "\n",
    "for a in same :\n",
    "     #   Getting All ID's where particular variable value is missing\n",
    "     #   Getting All index values where  particular variable value is missing and it corresponds to all ID's value \n",
    "\n",
    "   val_id=absent[absent[a].isnull()]['ID']\n",
    "   val_index=val_id.index\n",
    "   val_id=list(val_id)\n",
    "    \n",
    "   \n",
    "   for c,d in zip(val_id,val_index):\n",
    "    y=absent[(absent['ID']==c) & (absent[a].notnull())][a]\n",
    "    \n",
    "    \n",
    "    #  all values are same but still took mode here\n",
    "    y=y.mode()\n",
    "\n",
    "    # imputing value at location of missing value for particular variable\n",
    "    absent.loc[d,a]=y[0]\n",
    " "
   ]
  },
  {
   "cell_type": "markdown",
   "metadata": {},
   "source": [
    "Putting zero category of 'Reason.for.absence' column equal to 26(i.e. unjustified absence)."
   ]
  },
  {
   "cell_type": "code",
   "execution_count": 12,
   "metadata": {},
   "outputs": [],
   "source": [
    "absent.loc[absent['Reason for absence']==0,'Reason for absence']=26 "
   ]
  },
  {
   "cell_type": "markdown",
   "metadata": {},
   "source": [
    "Using 'Reason.for.absence' for imputing missing values in 'Absenteeism.time.in.hours'"
   ]
  },
  {
   "cell_type": "code",
   "execution_count": 13,
   "metadata": {},
   "outputs": [],
   "source": [
    "for i in range(1,29):\n",
    "    absent.loc[(absent['Absenteeism time in hours'].isnull()) & (absent['Reason for absence']==i),'Absenteeism time in hours'] = absent.loc[absent['Reason for absence']==i,'Absenteeism time in hours'].median()"
   ]
  },
  {
   "cell_type": "code",
   "execution_count": 14,
   "metadata": {},
   "outputs": [
    {
     "name": "stdout",
     "output_type": "stream",
     "text": [
      "Imputing row 1/740 with 0 missing, elapsed time: 0.273\n",
      "Imputing row 101/740 with 0 missing, elapsed time: 0.289\n",
      "Imputing row 201/740 with 0 missing, elapsed time: 0.290\n",
      "Imputing row 301/740 with 0 missing, elapsed time: 0.291\n",
      "Imputing row 401/740 with 0 missing, elapsed time: 0.291\n",
      "Imputing row 501/740 with 0 missing, elapsed time: 0.291\n",
      "Imputing row 601/740 with 0 missing, elapsed time: 0.291\n",
      "Imputing row 701/740 with 0 missing, elapsed time: 0.291\n"
     ]
    }
   ],
   "source": [
    "#Apply KNN imputation algorithm for reaming varible\n",
    "absent = pd.DataFrame(KNN(k = 3).fit_transform(absent), columns = absent.columns)"
   ]
  },
  {
   "cell_type": "code",
   "execution_count": 15,
   "metadata": {},
   "outputs": [],
   "source": [
    "# categorical varibles (variables which are categorical but already encoded here)\n",
    "categor=['ID','Reason for absence', 'Month of absence', 'Day of the week','Seasons','Disciplinary failure',\n",
    "         'Education', 'Social drinker','Social smoker']"
   ]
  },
  {
   "cell_type": "code",
   "execution_count": 16,
   "metadata": {},
   "outputs": [],
   "source": [
    "#Convert into proper datatypes\n",
    " # as no numerica data is in decimal and all categorical data needed to be round off after KNN for getting correct category value\n",
    "for i in absent.columns:            \n",
    "    absent.loc[:,i] = absent.loc[:,i].round()\n",
    "for i in categor:\n",
    "    absent.loc[:,i] = absent.loc[:,i].astype('category')"
   ]
  },
  {
   "cell_type": "code",
   "execution_count": 17,
   "metadata": {},
   "outputs": [
    {
     "name": "stdout",
     "output_type": "stream",
     "text": [
      "ID\n",
      "category\n",
      "Reason for absence\n",
      "category\n",
      "Month of absence\n",
      "category\n",
      "Day of the week\n",
      "category\n",
      "Seasons\n",
      "category\n",
      "Transportation expense\n",
      "float64\n",
      "Distance from Residence to Work\n",
      "float64\n",
      "Service time\n",
      "float64\n",
      "Age\n",
      "float64\n",
      "Work load Average/day \n",
      "float64\n",
      "Hit target\n",
      "float64\n",
      "Disciplinary failure\n",
      "category\n",
      "Education\n",
      "category\n",
      "Son\n",
      "float64\n",
      "Social drinker\n",
      "category\n",
      "Social smoker\n",
      "category\n",
      "Pet\n",
      "float64\n",
      "Weight\n",
      "float64\n",
      "Height\n",
      "float64\n",
      "Body mass index\n",
      "float64\n",
      "Absenteeism time in hours\n",
      "float64\n"
     ]
    }
   ],
   "source": [
    "# Checking data types \n",
    "for i in absent.columns:\n",
    "    print(i)\n",
    "    print(absent[i].dtype)"
   ]
  },
  {
   "cell_type": "markdown",
   "metadata": {},
   "source": [
    "# Relationships of categorical independent variables with dependent variable"
   ]
  },
  {
   "cell_type": "code",
   "execution_count": 18,
   "metadata": {},
   "outputs": [],
   "source": [
    "def relation(a):\n",
    "    plt.clf()\n",
    "    df = absent.groupby(a)['Absenteeism time in hours'].sum()\n",
    "    df = df.reset_index()\n",
    "    df['Absenteeism time in hours'] = (df['Absenteeism time in hours']*100)/sum(absent['Absenteeism time in hours'])\n",
    "    df = df.sort_values(by=['Absenteeism time in hours'])\n",
    "    print(a)\n",
    "    print(df)\n",
    "    return df.plot.barh(x=a,y='Absenteeism time in hours', figsize = (12,10))"
   ]
  },
  {
   "cell_type": "code",
   "execution_count": 19,
   "metadata": {},
   "outputs": [],
   "source": [
    "categor = ['ID','Reason for absence', 'Month of absence', 'Day of the week','Seasons','Disciplinary failure',\n",
    "         'Education', 'Social drinker','Social smoker']"
   ]
  },
  {
   "cell_type": "code",
   "execution_count": 20,
   "metadata": {},
   "outputs": [
    {
     "name": "stdout",
     "output_type": "stream",
     "text": [
      "ID\n",
      "      ID  Absenteeism time in hours\n",
      "34  35.0                   0.000000\n",
      "3    4.0                   0.000000\n",
      "7    8.0                   0.000000\n",
      "18  19.0                   0.117786\n",
      "20  21.0                   0.314095\n",
      "15  16.0                   0.314095\n",
      "31  32.0                   0.314095\n",
      "30  31.0                   0.314095\n",
      "28  29.0                   0.412250\n",
      "1    2.0                   0.490773\n",
      "26  27.0                   0.530035\n",
      "29  30.0                   0.608559\n",
      "11  12.0                   0.667452\n",
      "22  23.0                   0.785238\n",
      "24  25.0                   0.824499\n",
      "5    6.0                   1.413428\n",
      "32  33.0                   1.433059\n",
      "25  26.0                   1.629368\n",
      "4    5.0                   2.041618\n",
      "17  18.0                   2.316451\n",
      "0    1.0                   2.375344\n",
      "16  17.0                   2.473498\n",
      "6    7.0                   2.944641\n",
      "12  13.0                   3.435414\n",
      "9   10.0                   3.651355\n",
      "23  24.0                   4.907735\n",
      "21  22.0                   4.966627\n",
      "14  15.0                   4.966627\n",
      "8    9.0                   5.143306\n",
      "19  20.0                   5.987436\n",
      "35  36.0                   6.105222\n",
      "33  34.0                   6.733412\n",
      "27  28.0                   6.811936\n",
      "13  14.0                   7.145662\n",
      "10  11.0                   8.833922\n",
      "2    3.0                   8.990970\n"
     ]
    },
    {
     "data": {
      "text/plain": [
       "<matplotlib.axes._subplots.AxesSubplot at 0x1b793cbea58>"
      ]
     },
     "execution_count": 20,
     "metadata": {},
     "output_type": "execute_result"
    },
    {
     "data": {
      "text/plain": [
       "<Figure size 432x288 with 0 Axes>"
      ]
     },
     "metadata": {},
     "output_type": "display_data"
    },
    {
     "data": {
      "image/png": "[encoded data removed]",
      "text/plain": [
       "<Figure size 864x720 with 1 Axes>"
      ]
     },
     "metadata": {},
     "output_type": "display_data"
    }
   ],
   "source": [
    "relation(\"ID\")"
   ]
  },
  {
   "cell_type": "code",
   "execution_count": 21,
   "metadata": {},
   "outputs": [
    {
     "name": "stdout",
     "output_type": "stream",
     "text": [
      "Reason for absence\n",
      "   Reason for absence  Absenteeism time in hours\n",
      "15               16.0                   0.117786\n",
      "16               17.0                   0.157048\n",
      "2                 3.0                   0.157048\n",
      "19               20.0                   0.157048\n",
      "3                 4.0                   0.176678\n",
      "14               15.0                   0.314095\n",
      "4                 5.0                   0.372988\n",
      "1                 2.0                   0.471143\n",
      "23               24.0                   0.471143\n",
      "7                 8.0                   0.628190\n",
      "20               21.0                   0.687083\n",
      "24               25.0                   2.120141\n",
      "6                 7.0                   2.944641\n",
      "26               27.0                   3.140950\n",
      "13               14.0                   3.199843\n",
      "8                 9.0                   3.297998\n",
      "5                 6.0                   3.356890\n",
      "0                 1.0                   3.572831\n",
      "10               11.0                   3.631724\n",
      "11               12.0                   3.670985\n",
      "17               18.0                   4.259914\n",
      "9                10.0                   5.418139\n",
      "21               22.0                   5.594817\n",
      "27               28.0                   6.497841\n",
      "25               26.0                   6.910090\n",
      "22               23.0                   8.303887\n",
      "18               19.0                  14.310954\n",
      "12               13.0                  16.058108\n"
     ]
    },
    {
     "data": {
      "text/plain": [
       "<matplotlib.axes._subplots.AxesSubplot at 0x1b795eff4a8>"
      ]
     },
     "execution_count": 21,
     "metadata": {},
     "output_type": "execute_result"
    },
    {
     "data": {
      "text/plain": [
       "<Figure size 432x288 with 0 Axes>"
      ]
     },
     "metadata": {},
     "output_type": "display_data"
    },
    {
     "data": {
      "image/png": "[encoded data removed]",
      "text/plain": [
       "<Figure size 864x720 with 1 Axes>"
      ]
     },
     "metadata": {},
     "output_type": "display_data"
    }
   ],
   "source": [
    "relation('Reason for absence')"
   ]
  },
  {
   "cell_type": "code",
   "execution_count": 22,
   "metadata": {},
   "outputs": [
    {
     "name": "stdout",
     "output_type": "stream",
     "text": [
      "Month of absence\n",
      "   Month of absence  Absenteeism time in hours\n",
      "0               0.0                   0.000000\n",
      "1               1.0                   4.358068\n",
      "8               8.0                   5.653710\n",
      "9               9.0                   5.732234\n",
      "2               2.0                   5.771496\n",
      "10             10.0                   6.811936\n",
      "12             12.0                   7.656066\n",
      "5               5.0                   7.852375\n",
      "6               6.0                   8.068316\n",
      "11             11.0                   9.285434\n",
      "4               4.0                   9.462112\n",
      "7               7.0                  14.330585\n",
      "3               3.0                  15.017668\n"
     ]
    },
    {
     "data": {
      "text/plain": [
       "<matplotlib.axes._subplots.AxesSubplot at 0x1b795fd7be0>"
      ]
     },
     "execution_count": 22,
     "metadata": {},
     "output_type": "execute_result"
    },
    {
     "data": {
      "text/plain": [
       "<Figure size 432x288 with 0 Axes>"
      ]
     },
     "metadata": {},
     "output_type": "display_data"
    },
    {
     "data": {
      "image/png": "[encoded data removed]",
      "text/plain": [
       "<Figure size 864x720 with 1 Axes>"
      ]
     },
     "metadata": {},
     "output_type": "display_data"
    }
   ],
   "source": [
    "relation('Month of absence')"
   ]
  },
  {
   "cell_type": "code",
   "execution_count": 23,
   "metadata": {},
   "outputs": [
    {
     "name": "stdout",
     "output_type": "stream",
     "text": [
      "Day of the week\n",
      "  Day of the week  Absenteeism time in hours\n",
      "3             5.0                  10.855909\n",
      "4             6.0                  14.232430\n",
      "2             4.0                  21.888496\n",
      "1             3.0                  25.991362\n",
      "0             2.0                  27.031802\n"
     ]
    },
    {
     "data": {
      "text/plain": [
       "<matplotlib.axes._subplots.AxesSubplot at 0x1b797374ac8>"
      ]
     },
     "execution_count": 23,
     "metadata": {},
     "output_type": "execute_result"
    },
    {
     "data": {
      "text/plain": [
       "<Figure size 432x288 with 0 Axes>"
      ]
     },
     "metadata": {},
     "output_type": "display_data"
    },
    {
     "data": {
      "image/png": "[encoded data removed]",
      "text/plain": [
       "<Figure size 864x720 with 1 Axes>"
      ]
     },
     "metadata": {},
     "output_type": "display_data"
    }
   ],
   "source": [
    "relation('Day of the week')"
   ]
  },
  {
   "cell_type": "code",
   "execution_count": 24,
   "metadata": {},
   "outputs": [
    {
     "name": "stdout",
     "output_type": "stream",
     "text": [
      "Seasons\n",
      "  Seasons  Absenteeism time in hours\n",
      "1     2.0                  22.614841\n",
      "3     4.0                  23.812328\n",
      "0     1.0                  24.283471\n",
      "2     3.0                  29.289360\n"
     ]
    },
    {
     "data": {
      "text/plain": [
       "<matplotlib.axes._subplots.AxesSubplot at 0x1b797590b00>"
      ]
     },
     "execution_count": 24,
     "metadata": {},
     "output_type": "execute_result"
    },
    {
     "data": {
      "text/plain": [
       "<Figure size 432x288 with 0 Axes>"
      ]
     },
     "metadata": {},
     "output_type": "display_data"
    },
    {
     "data": {
      "image/png": "[encoded data removed]",
      "text/plain": [
       "<Figure size 864x720 with 1 Axes>"
      ]
     },
     "metadata": {},
     "output_type": "display_data"
    }
   ],
   "source": [
    "relation('Seasons')"
   ]
  },
  {
   "cell_type": "code",
   "execution_count": 25,
   "metadata": {},
   "outputs": [
    {
     "name": "stdout",
     "output_type": "stream",
     "text": [
      "Disciplinary failure\n",
      "  Disciplinary failure  Absenteeism time in hours\n",
      "1                  1.0                   2.355713\n",
      "0                  0.0                  97.644287\n"
     ]
    },
    {
     "data": {
      "text/plain": [
       "<matplotlib.axes._subplots.AxesSubplot at 0x1b797631ef0>"
      ]
     },
     "execution_count": 25,
     "metadata": {},
     "output_type": "execute_result"
    },
    {
     "data": {
      "text/plain": [
       "<Figure size 432x288 with 0 Axes>"
      ]
     },
     "metadata": {},
     "output_type": "display_data"
    },
    {
     "data": {
      "image/png": "[encoded data removed]",
      "text/plain": [
       "<Figure size 864x720 with 1 Axes>"
      ]
     },
     "metadata": {},
     "output_type": "display_data"
    }
   ],
   "source": [
    "relation('Disciplinary failure')"
   ]
  },
  {
   "cell_type": "code",
   "execution_count": 26,
   "metadata": {},
   "outputs": [
    {
     "name": "stdout",
     "output_type": "stream",
     "text": [
      "Education\n",
      "  Education  Absenteeism time in hours\n",
      "3       4.0                   0.412250\n",
      "1       2.0                   5.771496\n",
      "2       3.0                   8.166470\n",
      "0       1.0                  85.649784\n"
     ]
    },
    {
     "data": {
      "text/plain": [
       "<matplotlib.axes._subplots.AxesSubplot at 0x1b797830dd8>"
      ]
     },
     "execution_count": 26,
     "metadata": {},
     "output_type": "execute_result"
    },
    {
     "data": {
      "text/plain": [
       "<Figure size 432x288 with 0 Axes>"
      ]
     },
     "metadata": {},
     "output_type": "display_data"
    },
    {
     "data": {
      "image/png": "[encoded data removed]",
      "text/plain": [
       "<Figure size 864x720 with 1 Axes>"
      ]
     },
     "metadata": {},
     "output_type": "display_data"
    }
   ],
   "source": [
    "relation('Education')"
   ]
  },
  {
   "cell_type": "code",
   "execution_count": 27,
   "metadata": {},
   "outputs": [
    {
     "name": "stdout",
     "output_type": "stream",
     "text": [
      "Social drinker\n",
      "  Social drinker  Absenteeism time in hours\n",
      "0            0.0                   37.23989\n",
      "1            1.0                   62.76011\n"
     ]
    },
    {
     "data": {
      "text/plain": [
       "<matplotlib.axes._subplots.AxesSubplot at 0x1b797a518d0>"
      ]
     },
     "execution_count": 27,
     "metadata": {},
     "output_type": "execute_result"
    },
    {
     "data": {
      "text/plain": [
       "<Figure size 432x288 with 0 Axes>"
      ]
     },
     "metadata": {},
     "output_type": "display_data"
    },
    {
     "data": {
      "image/png": "[encoded data removed]",
      "text/plain": [
       "<Figure size 864x720 with 1 Axes>"
      ]
     },
     "metadata": {},
     "output_type": "display_data"
    }
   ],
   "source": [
    "relation('Social drinker')"
   ]
  },
  {
   "cell_type": "code",
   "execution_count": 28,
   "metadata": {},
   "outputs": [
    {
     "name": "stdout",
     "output_type": "stream",
     "text": [
      "Social smoker\n",
      "  Social smoker  Absenteeism time in hours\n",
      "1           1.0                   9.246172\n",
      "0           0.0                  90.753828\n"
     ]
    },
    {
     "data": {
      "text/plain": [
       "<matplotlib.axes._subplots.AxesSubplot at 0x1b797a5a2e8>"
      ]
     },
     "execution_count": 28,
     "metadata": {},
     "output_type": "execute_result"
    },
    {
     "data": {
      "text/plain": [
       "<Figure size 432x288 with 0 Axes>"
      ]
     },
     "metadata": {},
     "output_type": "display_data"
    },
    {
     "data": {
      "image/png": "[encoded data removed]",
      "text/plain": [
       "<Figure size 864x720 with 1 Axes>"
      ]
     },
     "metadata": {},
     "output_type": "display_data"
    }
   ],
   "source": [
    "relation('Social smoker')"
   ]
  },
  {
   "cell_type": "code",
   "execution_count": 29,
   "metadata": {},
   "outputs": [],
   "source": [
    " #  numeric value\n",
    "cnames =  ['Transportation expense', 'Distance from Residence to Work',\n",
    "       'Service time', 'Age', 'Work load Average/day ', 'Hit target',  'Son', 'Pet', 'Weight', 'Height', 'Body mass index']"
   ]
  },
  {
   "cell_type": "code",
   "execution_count": 30,
   "metadata": {},
   "outputs": [
    {
     "name": "stderr",
     "output_type": "stream",
     "text": [
      "C:\\Users\\dgnc\\Anaconda3\\lib\\site-packages\\matplotlib\\axes\\_axes.py:6462: UserWarning: The 'normed' kwarg is deprecated, and has been replaced by the 'density' kwarg.\n",
      "  warnings.warn(\"The 'normed' kwarg is deprecated, and has been \"\n",
      "C:\\Users\\dgnc\\Anaconda3\\lib\\site-packages\\scipy\\stats\\stats.py:1713: FutureWarning: Using a non-tuple sequence for multidimensional indexing is deprecated; use `arr[tuple(seq)]` instead of `arr[seq]`. In the future this will be interpreted as an array index, `arr[np.array(seq)]`, which will result either in an error or a different result.\n",
      "  return np.add.reduce(sorted[indexer] * weights, axis=axis) / sumval\n"
     ]
    },
    {
     "data": {
      "text/plain": [
       "<matplotlib.axes._subplots.AxesSubplot at 0x1b797c6e7f0>"
      ]
     },
     "execution_count": 30,
     "metadata": {},
     "output_type": "execute_result"
    },
    {
     "data": {
      "image/png": "[encoded data removed]",
      "text/plain": [
       "<Figure size 432x288 with 1 Axes>"
      ]
     },
     "metadata": {},
     "output_type": "display_data"
    }
   ],
   "source": [
    "sns.distplot(absent['Transportation expense'],bins=30)"
   ]
  },
  {
   "cell_type": "code",
   "execution_count": 31,
   "metadata": {},
   "outputs": [
    {
     "name": "stderr",
     "output_type": "stream",
     "text": [
      "C:\\Users\\dgnc\\Anaconda3\\lib\\site-packages\\matplotlib\\axes\\_axes.py:6462: UserWarning: The 'normed' kwarg is deprecated, and has been replaced by the 'density' kwarg.\n",
      "  warnings.warn(\"The 'normed' kwarg is deprecated, and has been \"\n",
      "C:\\Users\\dgnc\\Anaconda3\\lib\\site-packages\\scipy\\stats\\stats.py:1713: FutureWarning: Using a non-tuple sequence for multidimensional indexing is deprecated; use `arr[tuple(seq)]` instead of `arr[seq]`. In the future this will be interpreted as an array index, `arr[np.array(seq)]`, which will result either in an error or a different result.\n",
      "  return np.add.reduce(sorted[indexer] * weights, axis=axis) / sumval\n"
     ]
    },
    {
     "data": {
      "text/plain": [
       "<matplotlib.axes._subplots.AxesSubplot at 0x1b795e5bb00>"
      ]
     },
     "execution_count": 31,
     "metadata": {},
     "output_type": "execute_result"
    },
    {
     "data": {
      "image/png": "[encoded data removed]",
      "text/plain": [
       "<Figure size 432x288 with 1 Axes>"
      ]
     },
     "metadata": {},
     "output_type": "display_data"
    }
   ],
   "source": [
    "sns.distplot(absent['Distance from Residence to Work'],bins=30)"
   ]
  },
  {
   "cell_type": "code",
   "execution_count": 32,
   "metadata": {},
   "outputs": [
    {
     "name": "stderr",
     "output_type": "stream",
     "text": [
      "C:\\Users\\dgnc\\Anaconda3\\lib\\site-packages\\matplotlib\\axes\\_axes.py:6462: UserWarning: The 'normed' kwarg is deprecated, and has been replaced by the 'density' kwarg.\n",
      "  warnings.warn(\"The 'normed' kwarg is deprecated, and has been \"\n",
      "C:\\Users\\dgnc\\Anaconda3\\lib\\site-packages\\scipy\\stats\\stats.py:1713: FutureWarning: Using a non-tuple sequence for multidimensional indexing is deprecated; use `arr[tuple(seq)]` instead of `arr[seq]`. In the future this will be interpreted as an array index, `arr[np.array(seq)]`, which will result either in an error or a different result.\n",
      "  return np.add.reduce(sorted[indexer] * weights, axis=axis) / sumval\n"
     ]
    },
    {
     "data": {
      "text/plain": [
       "<matplotlib.axes._subplots.AxesSubplot at 0x1b797a24cc0>"
      ]
     },
     "execution_count": 32,
     "metadata": {},
     "output_type": "execute_result"
    },
    {
     "data": {
      "image/png": "[encoded data removed]",
      "text/plain": [
       "<Figure size 432x288 with 1 Axes>"
      ]
     },
     "metadata": {},
     "output_type": "display_data"
    }
   ],
   "source": [
    "sns.distplot(absent['Service time'],bins=30)"
   ]
  },
  {
   "cell_type": "code",
   "execution_count": 33,
   "metadata": {},
   "outputs": [
    {
     "name": "stderr",
     "output_type": "stream",
     "text": [
      "C:\\Users\\dgnc\\Anaconda3\\lib\\site-packages\\matplotlib\\axes\\_axes.py:6462: UserWarning: The 'normed' kwarg is deprecated, and has been replaced by the 'density' kwarg.\n",
      "  warnings.warn(\"The 'normed' kwarg is deprecated, and has been \"\n",
      "C:\\Users\\dgnc\\Anaconda3\\lib\\site-packages\\scipy\\stats\\stats.py:1713: FutureWarning: Using a non-tuple sequence for multidimensional indexing is deprecated; use `arr[tuple(seq)]` instead of `arr[seq]`. In the future this will be interpreted as an array index, `arr[np.array(seq)]`, which will result either in an error or a different result.\n",
      "  return np.add.reduce(sorted[indexer] * weights, axis=axis) / sumval\n"
     ]
    },
    {
     "data": {
      "text/plain": [
       "<matplotlib.axes._subplots.AxesSubplot at 0x1b798466550>"
      ]
     },
     "execution_count": 33,
     "metadata": {},
     "output_type": "execute_result"
    },
    {
     "data": {
      "image/png": "[encoded data removed]",
      "text/plain": [
       "<Figure size 432x288 with 1 Axes>"
      ]
     },
     "metadata": {},
     "output_type": "display_data"
    }
   ],
   "source": [
    "sns.distplot(absent['Age'],bins=30)"
   ]
  },
  {
   "cell_type": "code",
   "execution_count": 34,
   "metadata": {},
   "outputs": [
    {
     "name": "stderr",
     "output_type": "stream",
     "text": [
      "C:\\Users\\dgnc\\Anaconda3\\lib\\site-packages\\matplotlib\\axes\\_axes.py:6462: UserWarning: The 'normed' kwarg is deprecated, and has been replaced by the 'density' kwarg.\n",
      "  warnings.warn(\"The 'normed' kwarg is deprecated, and has been \"\n",
      "C:\\Users\\dgnc\\Anaconda3\\lib\\site-packages\\scipy\\stats\\stats.py:1713: FutureWarning: Using a non-tuple sequence for multidimensional indexing is deprecated; use `arr[tuple(seq)]` instead of `arr[seq]`. In the future this will be interpreted as an array index, `arr[np.array(seq)]`, which will result either in an error or a different result.\n",
      "  return np.add.reduce(sorted[indexer] * weights, axis=axis) / sumval\n"
     ]
    },
    {
     "data": {
      "text/plain": [
       "<matplotlib.axes._subplots.AxesSubplot at 0x1b7984b0e10>"
      ]
     },
     "execution_count": 34,
     "metadata": {},
     "output_type": "execute_result"
    },
    {
     "data": {
      "image/png": "[encoded data removed]",
      "text/plain": [
       "<Figure size 432x288 with 1 Axes>"
      ]
     },
     "metadata": {},
     "output_type": "display_data"
    }
   ],
   "source": [
    "sns.distplot(absent['Work load Average/day '],bins=30)"
   ]
  },
  {
   "cell_type": "code",
   "execution_count": 35,
   "metadata": {},
   "outputs": [
    {
     "name": "stderr",
     "output_type": "stream",
     "text": [
      "C:\\Users\\dgnc\\Anaconda3\\lib\\site-packages\\matplotlib\\axes\\_axes.py:6462: UserWarning: The 'normed' kwarg is deprecated, and has been replaced by the 'density' kwarg.\n",
      "  warnings.warn(\"The 'normed' kwarg is deprecated, and has been \"\n",
      "C:\\Users\\dgnc\\Anaconda3\\lib\\site-packages\\scipy\\stats\\stats.py:1713: FutureWarning: Using a non-tuple sequence for multidimensional indexing is deprecated; use `arr[tuple(seq)]` instead of `arr[seq]`. In the future this will be interpreted as an array index, `arr[np.array(seq)]`, which will result either in an error or a different result.\n",
      "  return np.add.reduce(sorted[indexer] * weights, axis=axis) / sumval\n"
     ]
    },
    {
     "data": {
      "text/plain": [
       "<matplotlib.axes._subplots.AxesSubplot at 0x1b7985ff668>"
      ]
     },
     "execution_count": 35,
     "metadata": {},
     "output_type": "execute_result"
    },
    {
     "data": {
      "image/png": "[encoded data removed]",
      "text/plain": [
       "<Figure size 432x288 with 1 Axes>"
      ]
     },
     "metadata": {},
     "output_type": "display_data"
    }
   ],
   "source": [
    "sns.distplot(absent['Hit target'],bins=30)"
   ]
  },
  {
   "cell_type": "code",
   "execution_count": 36,
   "metadata": {},
   "outputs": [
    {
     "name": "stderr",
     "output_type": "stream",
     "text": [
      "C:\\Users\\dgnc\\Anaconda3\\lib\\site-packages\\matplotlib\\axes\\_axes.py:6462: UserWarning: The 'normed' kwarg is deprecated, and has been replaced by the 'density' kwarg.\n",
      "  warnings.warn(\"The 'normed' kwarg is deprecated, and has been \"\n",
      "C:\\Users\\dgnc\\Anaconda3\\lib\\site-packages\\scipy\\stats\\stats.py:1713: FutureWarning: Using a non-tuple sequence for multidimensional indexing is deprecated; use `arr[tuple(seq)]` instead of `arr[seq]`. In the future this will be interpreted as an array index, `arr[np.array(seq)]`, which will result either in an error or a different result.\n",
      "  return np.add.reduce(sorted[indexer] * weights, axis=axis) / sumval\n"
     ]
    },
    {
     "data": {
      "text/plain": [
       "<matplotlib.axes._subplots.AxesSubplot at 0x1b7986975f8>"
      ]
     },
     "execution_count": 36,
     "metadata": {},
     "output_type": "execute_result"
    },
    {
     "data": {
      "image/png": "[encoded data removed]",
      "text/plain": [
       "<Figure size 432x288 with 1 Axes>"
      ]
     },
     "metadata": {},
     "output_type": "display_data"
    }
   ],
   "source": [
    "sns.distplot(absent['Son'],bins=30)"
   ]
  },
  {
   "cell_type": "code",
   "execution_count": 37,
   "metadata": {},
   "outputs": [
    {
     "name": "stderr",
     "output_type": "stream",
     "text": [
      "C:\\Users\\dgnc\\Anaconda3\\lib\\site-packages\\matplotlib\\axes\\_axes.py:6462: UserWarning: The 'normed' kwarg is deprecated, and has been replaced by the 'density' kwarg.\n",
      "  warnings.warn(\"The 'normed' kwarg is deprecated, and has been \"\n",
      "C:\\Users\\dgnc\\Anaconda3\\lib\\site-packages\\scipy\\stats\\stats.py:1713: FutureWarning: Using a non-tuple sequence for multidimensional indexing is deprecated; use `arr[tuple(seq)]` instead of `arr[seq]`. In the future this will be interpreted as an array index, `arr[np.array(seq)]`, which will result either in an error or a different result.\n",
      "  return np.add.reduce(sorted[indexer] * weights, axis=axis) / sumval\n"
     ]
    },
    {
     "data": {
      "text/plain": [
       "<matplotlib.axes._subplots.AxesSubplot at 0x1b7985a79e8>"
      ]
     },
     "execution_count": 37,
     "metadata": {},
     "output_type": "execute_result"
    },
    {
     "data": {
      "image/png": "[encoded data removed]",
      "text/plain": [
       "<Figure size 432x288 with 1 Axes>"
      ]
     },
     "metadata": {},
     "output_type": "display_data"
    }
   ],
   "source": [
    "sns.distplot(absent['Pet'],bins=30)"
   ]
  },
  {
   "cell_type": "code",
   "execution_count": 38,
   "metadata": {},
   "outputs": [
    {
     "name": "stderr",
     "output_type": "stream",
     "text": [
      "C:\\Users\\dgnc\\Anaconda3\\lib\\site-packages\\matplotlib\\axes\\_axes.py:6462: UserWarning: The 'normed' kwarg is deprecated, and has been replaced by the 'density' kwarg.\n",
      "  warnings.warn(\"The 'normed' kwarg is deprecated, and has been \"\n",
      "C:\\Users\\dgnc\\Anaconda3\\lib\\site-packages\\scipy\\stats\\stats.py:1713: FutureWarning: Using a non-tuple sequence for multidimensional indexing is deprecated; use `arr[tuple(seq)]` instead of `arr[seq]`. In the future this will be interpreted as an array index, `arr[np.array(seq)]`, which will result either in an error or a different result.\n",
      "  return np.add.reduce(sorted[indexer] * weights, axis=axis) / sumval\n"
     ]
    },
    {
     "data": {
      "text/plain": [
       "<matplotlib.axes._subplots.AxesSubplot at 0x1b7987d3400>"
      ]
     },
     "execution_count": 38,
     "metadata": {},
     "output_type": "execute_result"
    },
    {
     "data": {
      "image/png": "[encoded data removed]",
      "text/plain": [
       "<Figure size 432x288 with 1 Axes>"
      ]
     },
     "metadata": {},
     "output_type": "display_data"
    }
   ],
   "source": [
    "sns.distplot(absent['Weight'],bins=30)"
   ]
  },
  {
   "cell_type": "code",
   "execution_count": 39,
   "metadata": {},
   "outputs": [
    {
     "name": "stderr",
     "output_type": "stream",
     "text": [
      "C:\\Users\\dgnc\\Anaconda3\\lib\\site-packages\\matplotlib\\axes\\_axes.py:6462: UserWarning: The 'normed' kwarg is deprecated, and has been replaced by the 'density' kwarg.\n",
      "  warnings.warn(\"The 'normed' kwarg is deprecated, and has been \"\n",
      "C:\\Users\\dgnc\\Anaconda3\\lib\\site-packages\\scipy\\stats\\stats.py:1713: FutureWarning: Using a non-tuple sequence for multidimensional indexing is deprecated; use `arr[tuple(seq)]` instead of `arr[seq]`. In the future this will be interpreted as an array index, `arr[np.array(seq)]`, which will result either in an error or a different result.\n",
      "  return np.add.reduce(sorted[indexer] * weights, axis=axis) / sumval\n"
     ]
    },
    {
     "data": {
      "text/plain": [
       "<matplotlib.axes._subplots.AxesSubplot at 0x1b798782278>"
      ]
     },
     "execution_count": 39,
     "metadata": {},
     "output_type": "execute_result"
    },
    {
     "data": {
      "image/png": "[encoded data removed]",
      "text/plain": [
       "<Figure size 432x288 with 1 Axes>"
      ]
     },
     "metadata": {},
     "output_type": "display_data"
    }
   ],
   "source": [
    "sns.distplot(absent['Height'],bins=30)"
   ]
  },
  {
   "cell_type": "code",
   "execution_count": 40,
   "metadata": {},
   "outputs": [
    {
     "name": "stderr",
     "output_type": "stream",
     "text": [
      "C:\\Users\\dgnc\\Anaconda3\\lib\\site-packages\\matplotlib\\axes\\_axes.py:6462: UserWarning: The 'normed' kwarg is deprecated, and has been replaced by the 'density' kwarg.\n",
      "  warnings.warn(\"The 'normed' kwarg is deprecated, and has been \"\n",
      "C:\\Users\\dgnc\\Anaconda3\\lib\\site-packages\\scipy\\stats\\stats.py:1713: FutureWarning: Using a non-tuple sequence for multidimensional indexing is deprecated; use `arr[tuple(seq)]` instead of `arr[seq]`. In the future this will be interpreted as an array index, `arr[np.array(seq)]`, which will result either in an error or a different result.\n",
      "  return np.add.reduce(sorted[indexer] * weights, axis=axis) / sumval\n"
     ]
    },
    {
     "data": {
      "text/plain": [
       "<matplotlib.axes._subplots.AxesSubplot at 0x1b7988e5978>"
      ]
     },
     "execution_count": 40,
     "metadata": {},
     "output_type": "execute_result"
    },
    {
     "data": {
      "image/png": "[encoded data removed]",
      "text/plain": [
       "<Figure size 432x288 with 1 Axes>"
      ]
     },
     "metadata": {},
     "output_type": "display_data"
    }
   ],
   "source": [
    "sns.distplot(absent['Body mass index'],bins=30)"
   ]
  },
  {
   "cell_type": "code",
   "execution_count": 41,
   "metadata": {},
   "outputs": [
    {
     "name": "stderr",
     "output_type": "stream",
     "text": [
      "C:\\Users\\dgnc\\Anaconda3\\lib\\site-packages\\matplotlib\\axes\\_axes.py:6462: UserWarning: The 'normed' kwarg is deprecated, and has been replaced by the 'density' kwarg.\n",
      "  warnings.warn(\"The 'normed' kwarg is deprecated, and has been \"\n",
      "C:\\Users\\dgnc\\Anaconda3\\lib\\site-packages\\scipy\\stats\\stats.py:1713: FutureWarning: Using a non-tuple sequence for multidimensional indexing is deprecated; use `arr[tuple(seq)]` instead of `arr[seq]`. In the future this will be interpreted as an array index, `arr[np.array(seq)]`, which will result either in an error or a different result.\n",
      "  return np.add.reduce(sorted[indexer] * weights, axis=axis) / sumval\n"
     ]
    },
    {
     "data": {
      "text/plain": [
       "<matplotlib.axes._subplots.AxesSubplot at 0x1b7988fb6d8>"
      ]
     },
     "execution_count": 41,
     "metadata": {},
     "output_type": "execute_result"
    },
    {
     "data": {
      "image/png": "[encoded data removed]",
      "text/plain": [
       "<Figure size 432x288 with 1 Axes>"
      ]
     },
     "metadata": {},
     "output_type": "display_data"
    }
   ],
   "source": [
    "sns.distplot(absent['Absenteeism time in hours'],bins=30)"
   ]
  },
  {
   "cell_type": "markdown",
   "metadata": {
    "collapsed": true
   },
   "source": [
    "## Outlier Analysis"
   ]
  },
  {
   "cell_type": "code",
   "execution_count": 42,
   "metadata": {},
   "outputs": [],
   "source": [
    "df1 = absent.copy()\n",
    "#absent = df1.copy()"
   ]
  },
  {
   "cell_type": "code",
   "execution_count": 43,
   "metadata": {},
   "outputs": [],
   "source": [
    " #  numeric value\n",
    "cnames =  ['Transportation expense', 'Distance from Residence to Work','Service time', 'Age', \n",
    "           'Work load Average/day ', 'Hit target',  'Son', 'Pet', 'Weight', 'Height', 'Body mass index']"
   ]
  },
  {
   "cell_type": "code",
   "execution_count": 44,
   "metadata": {
    "scrolled": true
   },
   "outputs": [
    {
     "data": {
      "image/png": "[encoded data removed]",
      "text/plain": [
       "<Figure size 432x288 with 1 Axes>"
      ]
     },
     "metadata": {},
     "output_type": "display_data"
    },
    {
     "data": {
      "image/png": "[encoded data removed]",
      "text/plain": [
       "<Figure size 432x288 with 1 Axes>"
      ]
     },
     "metadata": {},
     "output_type": "display_data"
    },
    {
     "data": {
      "image/png": "[encoded data removed]",
      "text/plain": [
       "<Figure size 432x288 with 1 Axes>"
      ]
     },
     "metadata": {},
     "output_type": "display_data"
    },
    {
     "data": {
      "image/png": "[encoded data removed]",
      "text/plain": [
       "<Figure size 432x288 with 1 Axes>"
      ]
     },
     "metadata": {},
     "output_type": "display_data"
    },
    {
     "data": {
      "image/png": "[encoded data removed]",
      "text/plain": [
       "<Figure size 432x288 with 1 Axes>"
      ]
     },
     "metadata": {},
     "output_type": "display_data"
    },
    {
     "data": {
      "image/png": "[encoded data removed]",
      "text/plain": [
       "<Figure size 432x288 with 1 Axes>"
      ]
     },
     "metadata": {},
     "output_type": "display_data"
    },
    {
     "data": {
      "image/png": "[encoded data removed]",
      "text/plain": [
       "<Figure size 432x288 with 1 Axes>"
      ]
     },
     "metadata": {},
     "output_type": "display_data"
    },
    {
     "data": {
      "image/png": "[encoded data removed]",
      "text/plain": [
       "<Figure size 432x288 with 1 Axes>"
      ]
     },
     "metadata": {},
     "output_type": "display_data"
    },
    {
     "data": {
      "image/png": "[encoded data removed]",
      "text/plain": [
       "<Figure size 432x288 with 1 Axes>"
      ]
     },
     "metadata": {},
     "output_type": "display_data"
    },
    {
     "data": {
      "image/png": "[encoded data removed]",
      "text/plain": [
       "<Figure size 432x288 with 1 Axes>"
      ]
     },
     "metadata": {},
     "output_type": "display_data"
    },
    {
     "data": {
      "image/png": "[encoded data removed]",
      "text/plain": [
       "<Figure size 432x288 with 1 Axes>"
      ]
     },
     "metadata": {},
     "output_type": "display_data"
    }
   ],
   "source": [
    "#   Plotting Box Plot\n",
    "for i in cnames:\n",
    "    plt.figure()\n",
    "    plt.clf() #clearing the figure\n",
    "    sns.boxplot(absent[i],color=\"cyan\")\n",
    "    plt.title(i)\n",
    "    plt.show()"
   ]
  },
  {
   "cell_type": "code",
   "execution_count": 45,
   "metadata": {},
   "outputs": [],
   "source": [
    " #  numeric value\n",
    "cnames =  ['Transportation expense', 'Distance from Residence to Work',\n",
    "       'Service time', 'Age', 'Work load Average/day ', 'Hit target',  'Son', 'Pet', 'Weight', 'Height', 'Body mass index']"
   ]
  },
  {
   "cell_type": "code",
   "execution_count": 46,
   "metadata": {},
   "outputs": [],
   "source": [
    "#   numeric values for outlier analysis\n",
    "cnames1 =  [ 'Transportation expense', 'Distance from Residence to Work',\n",
    "       'Service time', 'Age', 'Work load Average/day ', 'Hit target',  'Son', 'Weight', 'Body mass index']"
   ]
  },
  {
   "cell_type": "code",
   "execution_count": 47,
   "metadata": {},
   "outputs": [],
   "source": [
    "#absent = df.copy()"
   ]
  },
  {
   "cell_type": "code",
   "execution_count": 48,
   "metadata": {},
   "outputs": [
    {
     "name": "stdout",
     "output_type": "stream",
     "text": [
      "Transportation expense\n",
      "57.5\n",
      "381.5\n",
      "Distance from Residence to Work\n",
      "-35.0\n",
      "101.0\n",
      "Service time\n",
      "-1.5\n",
      "26.5\n",
      "Age\n",
      "17.5\n",
      "53.5\n",
      "Work load Average/day \n",
      "183688.0\n",
      "345552.0\n",
      "Hit target\n",
      "87.0\n",
      "103.0\n",
      "Son\n",
      "-3.0\n",
      "5.0\n",
      "Weight\n",
      "39.0\n",
      "119.0\n",
      "Body mass index\n",
      "13.5\n",
      "41.5\n"
     ]
    }
   ],
   "source": [
    "# Detect and Delete outliers from data\n",
    "for i in cnames1:\n",
    "    print(i)\n",
    "    q75, q25 = np.percentile(absent.loc[:,i], [75 ,25])\n",
    "    iqr = q75 - q25\n",
    "\n",
    "    min = q25 - (iqr*1.5)\n",
    "    max = q75 + (iqr*1.5)\n",
    "    print(min)\n",
    "    print(max)\n",
    "    absent = absent.drop(absent[absent.loc[:,i] < min].index)\n",
    "    absent = absent.drop(absent[absent.loc[:,i] > max].index)   \n",
    "\n",
    "#  Imputing outliers after exploratory data analysis   \n",
    "absent.loc[(absent['Height']>182),'Height']=182\n",
    "absent.loc[(absent['Pet']>4),'Pet']=4"
   ]
  },
  {
   "cell_type": "code",
   "execution_count": 176,
   "metadata": {},
   "outputs": [
    {
     "name": "stdout",
     "output_type": "stream",
     "text": [
      "Transportation expense\n",
      "57.5\n",
      "381.5\n",
      "Distance from Residence to Work\n",
      "-35.0\n",
      "101.0\n",
      "Service time\n",
      "-1.5\n",
      "26.5\n",
      "Age\n",
      "17.5\n",
      "53.5\n",
      "Work load Average/day \n",
      "183688.0\n",
      "345552.0\n",
      "Hit target\n",
      "87.0\n",
      "103.0\n",
      "Son\n",
      "-3.0\n",
      "5.0\n",
      "Pet\n",
      "-1.5\n",
      "2.5\n",
      "Weight\n",
      "39.0\n",
      "119.0\n",
      "Height\n",
      "164.5\n",
      "176.5\n",
      "Body mass index\n",
      "13.5\n",
      "41.5\n"
     ]
    },
    {
     "data": {
      "text/html": [
       "<div>\n",
       "<style scoped>\n",
       "    .dataframe tbody tr th:only-of-type {\n",
       "        vertical-align: middle;\n",
       "    }\n",
       "\n",
       "    .dataframe tbody tr th {\n",
       "        vertical-align: top;\n",
       "    }\n",
       "\n",
       "    .dataframe thead th {\n",
       "        text-align: right;\n",
       "    }\n",
       "</style>\n",
       "<table border=\"1\" class=\"dataframe\">\n",
       "  <thead>\n",
       "    <tr style=\"text-align: right;\">\n",
       "      <th></th>\n",
       "      <th>0</th>\n",
       "    </tr>\n",
       "  </thead>\n",
       "  <tbody>\n",
       "    <tr>\n",
       "      <th>ID</th>\n",
       "      <td>0</td>\n",
       "    </tr>\n",
       "    <tr>\n",
       "      <th>Reason for absence</th>\n",
       "      <td>0</td>\n",
       "    </tr>\n",
       "    <tr>\n",
       "      <th>Month of absence</th>\n",
       "      <td>0</td>\n",
       "    </tr>\n",
       "    <tr>\n",
       "      <th>Day of the week</th>\n",
       "      <td>0</td>\n",
       "    </tr>\n",
       "    <tr>\n",
       "      <th>Seasons</th>\n",
       "      <td>0</td>\n",
       "    </tr>\n",
       "    <tr>\n",
       "      <th>Transportation expense</th>\n",
       "      <td>3</td>\n",
       "    </tr>\n",
       "    <tr>\n",
       "      <th>Distance from Residence to Work</th>\n",
       "      <td>0</td>\n",
       "    </tr>\n",
       "    <tr>\n",
       "      <th>Service time</th>\n",
       "      <td>5</td>\n",
       "    </tr>\n",
       "    <tr>\n",
       "      <th>Age</th>\n",
       "      <td>8</td>\n",
       "    </tr>\n",
       "    <tr>\n",
       "      <th>Work load Average/day</th>\n",
       "      <td>31</td>\n",
       "    </tr>\n",
       "    <tr>\n",
       "      <th>Hit target</th>\n",
       "      <td>19</td>\n",
       "    </tr>\n",
       "    <tr>\n",
       "      <th>Disciplinary failure</th>\n",
       "      <td>0</td>\n",
       "    </tr>\n",
       "    <tr>\n",
       "      <th>Education</th>\n",
       "      <td>0</td>\n",
       "    </tr>\n",
       "    <tr>\n",
       "      <th>Son</th>\n",
       "      <td>0</td>\n",
       "    </tr>\n",
       "    <tr>\n",
       "      <th>Social drinker</th>\n",
       "      <td>0</td>\n",
       "    </tr>\n",
       "    <tr>\n",
       "      <th>Social smoker</th>\n",
       "      <td>0</td>\n",
       "    </tr>\n",
       "    <tr>\n",
       "      <th>Pet</th>\n",
       "      <td>46</td>\n",
       "    </tr>\n",
       "    <tr>\n",
       "      <th>Weight</th>\n",
       "      <td>0</td>\n",
       "    </tr>\n",
       "    <tr>\n",
       "      <th>Height</th>\n",
       "      <td>119</td>\n",
       "    </tr>\n",
       "    <tr>\n",
       "      <th>Body mass index</th>\n",
       "      <td>0</td>\n",
       "    </tr>\n",
       "    <tr>\n",
       "      <th>Absenteeism time in hours</th>\n",
       "      <td>0</td>\n",
       "    </tr>\n",
       "  </tbody>\n",
       "</table>\n",
       "</div>"
      ],
      "text/plain": [
       "                                   0\n",
       "ID                                 0\n",
       "Reason for absence                 0\n",
       "Month of absence                   0\n",
       "Day of the week                    0\n",
       "Seasons                            0\n",
       "Transportation expense             3\n",
       "Distance from Residence to Work    0\n",
       "Service time                       5\n",
       "Age                                8\n",
       "Work load Average/day             31\n",
       "Hit target                        19\n",
       "Disciplinary failure               0\n",
       "Education                          0\n",
       "Son                                0\n",
       "Social drinker                     0\n",
       "Social smoker                      0\n",
       "Pet                               46\n",
       "Weight                             0\n",
       "Height                           119\n",
       "Body mass index                    0\n",
       "Absenteeism time in hours          0"
      ]
     },
     "execution_count": 176,
     "metadata": {},
     "output_type": "execute_result"
    }
   ],
   "source": [
    "#Detect and replace with NA\n",
    "# #Extract quartiles\n",
    "for i in cnames:\n",
    "    print(i)\n",
    "    q75, q25 = np.percentile(absent.loc[:,i], [75 ,25]) \n",
    "\n",
    "# #Calculate IQR\n",
    "    iqr = q75 - q25\n",
    "\n",
    "# #Calculate inner and outer fence\n",
    "    minimum = q25 - (iqr*1.5)\n",
    "    maximum = q75 + (iqr*1.5)\n",
    "    print(minimum)\n",
    "    print(maximum)\n",
    "# #Replace with NA\n",
    "       \n",
    "    absent.loc[absent[i]< minimum , i]=np.nan\n",
    "    absent.loc[absent[i]> maximum , i]=np.nan\n",
    "\n",
    "# #Calculate missing value\n",
    "pd.DataFrame(absent.isnull().sum())\n",
    "\n",
    "# #Impute with KNN\n",
    "#customer_train = pd.DataFrame(KNN(k = 3).complete(customer_train), columns = mcustomer_train.columns)"
   ]
  },
  {
   "cell_type": "code",
   "execution_count": 190,
   "metadata": {},
   "outputs": [],
   "source": [
    "#   Detect outlier using Z score method\n",
    "def detect_outlier(data_1):\n",
    "    \n",
    "    threshold=3\n",
    "    mean_1 = np.mean(data_1)\n",
    "    std_1 =np.std(data_1)\n",
    "    \n",
    "    \n",
    "    for y in data_1:\n",
    "        z_score= (y - mean_1)/std_1 \n",
    "        if np.abs(z_score) > threshold:\n",
    "            outliers.append(y)\n",
    "    return outliers"
   ]
  },
  {
   "cell_type": "code",
   "execution_count": 191,
   "metadata": {},
   "outputs": [
    {
     "name": "stdout",
     "output_type": "stream",
     "text": [
      "Transportation expense\n",
      "0\n",
      "[]\n",
      "Distance from Residence to Work\n",
      "0\n",
      "[]\n",
      "Service time\n",
      "5\n",
      "[29.0, 29.0, 29.0, 29.0, 29.0]\n",
      "Age\n",
      "8\n",
      "[58.0, 58.0, 58.0, 58.0, 58.0, 58.0, 58.0, 58.0]\n",
      "Work load Average/day \n",
      "0\n",
      "[]\n",
      "Hit target\n",
      "19\n",
      "[81.0, 81.0, 81.0, 81.0, 81.0, 81.0, 81.0, 81.0, 81.0, 81.0, 81.0, 81.0, 81.0, 81.0, 81.0, 81.0, 81.0, 81.0, 81.0]\n",
      "Son\n",
      "0\n",
      "[]\n",
      "Pet\n",
      "14\n",
      "[5.0, 5.0, 5.0, 5.0, 5.0, 8.0, 8.0, 8.0, 8.0, 5.0, 8.0, 8.0, 8.0, 8.0]\n",
      "Weight\n",
      "0\n",
      "[]\n",
      "Height\n",
      "29\n",
      "[196.0, 196.0, 196.0, 196.0, 196.0, 196.0, 196.0, 196.0, 196.0, 196.0, 196.0, 196.0, 196.0, 196.0, 196.0, 196.0, 196.0, 196.0, 196.0, 196.0, 196.0, 196.0, 196.0, 196.0, 196.0, 196.0, 196.0, 196.0, 196.0]\n",
      "Body mass index\n",
      "0\n",
      "[]\n"
     ]
    }
   ],
   "source": [
    "for i in cnames:\n",
    "    out1=[]\n",
    "    outliers=[]\n",
    "    print(i)\n",
    "    out1=detect_outlier(absent[i])\n",
    "    print(len(out1)) \n",
    "    print(out1)\n",
    "  "
   ]
  },
  {
   "cell_type": "markdown",
   "metadata": {},
   "source": [
    "## Feature Selection"
   ]
  },
  {
   "cell_type": "code",
   "execution_count": 49,
   "metadata": {},
   "outputs": [],
   "source": [
    "##Correlation analysis\n",
    "#Correlation plot\n",
    "df_corr = absent.loc[:,cnames]"
   ]
  },
  {
   "cell_type": "code",
   "execution_count": 50,
   "metadata": {},
   "outputs": [
    {
     "data": {
      "text/plain": [
       "<matplotlib.axes._subplots.AxesSubplot at 0x1b799d6f3c8>"
      ]
     },
     "execution_count": 50,
     "metadata": {},
     "output_type": "execute_result"
    },
    {
     "data": {
      "image/png": "[encoded data removed]",
      "text/plain": [
       "<Figure size 864x576 with 2 Axes>"
      ]
     },
     "metadata": {},
     "output_type": "display_data"
    }
   ],
   "source": [
    "#Set the width and hieght of the plot\n",
    "f, ax = plt.subplots(figsize=(12, 8))\n",
    "\n",
    "#Generate correlation matrix\n",
    "corr = df_corr.corr()\n",
    "\n",
    "#Plot using seaborn library\n",
    "sns.heatmap(corr, mask=np.zeros_like(corr, dtype=np.bool), cmap='coolwarm',annot=True,\n",
    "            square=True, ax=ax)"
   ]
  },
  {
   "cell_type": "code",
   "execution_count": 51,
   "metadata": {},
   "outputs": [],
   "source": [
    "#Chi Square test\n",
    "#Save categorical variables\n",
    "cat2 = ['ID','Reason for absence', 'Month of absence', 'Day of the week','Seasons','Disciplinary failure',\n",
    "         'Education', 'Social drinker','Social smoker']"
   ]
  },
  {
   "cell_type": "code",
   "execution_count": 52,
   "metadata": {
    "scrolled": false
   },
   "outputs": [
    {
     "data": {
      "text/html": [
       "<div>\n",
       "<style scoped>\n",
       "    .dataframe tbody tr th:only-of-type {\n",
       "        vertical-align: middle;\n",
       "    }\n",
       "\n",
       "    .dataframe tbody tr th {\n",
       "        vertical-align: top;\n",
       "    }\n",
       "\n",
       "    .dataframe thead th {\n",
       "        text-align: right;\n",
       "    }\n",
       "</style>\n",
       "<table border=\"1\" class=\"dataframe\">\n",
       "  <thead>\n",
       "    <tr style=\"text-align: right;\">\n",
       "      <th></th>\n",
       "      <th>ID</th>\n",
       "      <th>Reason for absence</th>\n",
       "      <th>Month of absence</th>\n",
       "      <th>Day of the week</th>\n",
       "      <th>Seasons</th>\n",
       "      <th>Disciplinary failure</th>\n",
       "      <th>Education</th>\n",
       "      <th>Social drinker</th>\n",
       "      <th>Social smoker</th>\n",
       "    </tr>\n",
       "  </thead>\n",
       "  <tbody>\n",
       "    <tr>\n",
       "      <th>ID</th>\n",
       "      <td>0.000000e+00</td>\n",
       "      <td>4.108190e-44</td>\n",
       "      <td>7.723765e-79</td>\n",
       "      <td>0.000065</td>\n",
       "      <td>8.649479e-07</td>\n",
       "      <td>1.068402e-05</td>\n",
       "      <td>0.000000e+00</td>\n",
       "      <td>5.240102e-121</td>\n",
       "      <td>1.110115e-121</td>\n",
       "    </tr>\n",
       "    <tr>\n",
       "      <th>Reason for absence</th>\n",
       "      <td>4.108190e-44</td>\n",
       "      <td>0.000000e+00</td>\n",
       "      <td>8.002549e-14</td>\n",
       "      <td>0.044816</td>\n",
       "      <td>9.743721e-18</td>\n",
       "      <td>6.209839e-47</td>\n",
       "      <td>3.019780e-10</td>\n",
       "      <td>1.411095e-08</td>\n",
       "      <td>1.441534e-07</td>\n",
       "    </tr>\n",
       "    <tr>\n",
       "      <th>Month of absence</th>\n",
       "      <td>7.723765e-79</td>\n",
       "      <td>8.002549e-14</td>\n",
       "      <td>0.000000e+00</td>\n",
       "      <td>0.597895</td>\n",
       "      <td>0.000000e+00</td>\n",
       "      <td>1.173244e-03</td>\n",
       "      <td>9.182166e-04</td>\n",
       "      <td>3.125854e-02</td>\n",
       "      <td>5.008804e-02</td>\n",
       "    </tr>\n",
       "    <tr>\n",
       "      <th>Day of the week</th>\n",
       "      <td>6.469442e-05</td>\n",
       "      <td>4.481559e-02</td>\n",
       "      <td>5.978949e-01</td>\n",
       "      <td>0.000000</td>\n",
       "      <td>2.077837e-01</td>\n",
       "      <td>5.804799e-01</td>\n",
       "      <td>5.979612e-01</td>\n",
       "      <td>6.519246e-01</td>\n",
       "      <td>8.217987e-01</td>\n",
       "    </tr>\n",
       "    <tr>\n",
       "      <th>Seasons</th>\n",
       "      <td>8.649479e-07</td>\n",
       "      <td>9.743721e-18</td>\n",
       "      <td>0.000000e+00</td>\n",
       "      <td>0.207784</td>\n",
       "      <td>0.000000e+00</td>\n",
       "      <td>1.596185e-05</td>\n",
       "      <td>3.483862e-02</td>\n",
       "      <td>2.431226e-01</td>\n",
       "      <td>1.015022e-01</td>\n",
       "    </tr>\n",
       "    <tr>\n",
       "      <th>Disciplinary failure</th>\n",
       "      <td>1.068402e-05</td>\n",
       "      <td>6.209839e-47</td>\n",
       "      <td>1.173244e-03</td>\n",
       "      <td>0.580480</td>\n",
       "      <td>1.596185e-05</td>\n",
       "      <td>0.000000e+00</td>\n",
       "      <td>4.803712e-01</td>\n",
       "      <td>2.477535e-01</td>\n",
       "      <td>2.774606e-02</td>\n",
       "    </tr>\n",
       "    <tr>\n",
       "      <th>Education</th>\n",
       "      <td>0.000000e+00</td>\n",
       "      <td>3.019780e-10</td>\n",
       "      <td>9.182166e-04</td>\n",
       "      <td>0.597961</td>\n",
       "      <td>3.483862e-02</td>\n",
       "      <td>4.803712e-01</td>\n",
       "      <td>0.000000e+00</td>\n",
       "      <td>2.407969e-34</td>\n",
       "      <td>5.715478e-21</td>\n",
       "    </tr>\n",
       "    <tr>\n",
       "      <th>Social drinker</th>\n",
       "      <td>5.240102e-121</td>\n",
       "      <td>1.411095e-08</td>\n",
       "      <td>3.125854e-02</td>\n",
       "      <td>0.651925</td>\n",
       "      <td>2.431226e-01</td>\n",
       "      <td>2.477535e-01</td>\n",
       "      <td>2.407969e-34</td>\n",
       "      <td>0.000000e+00</td>\n",
       "      <td>7.626547e-03</td>\n",
       "    </tr>\n",
       "    <tr>\n",
       "      <th>Social smoker</th>\n",
       "      <td>1.110115e-121</td>\n",
       "      <td>1.441534e-07</td>\n",
       "      <td>5.008804e-02</td>\n",
       "      <td>0.821799</td>\n",
       "      <td>1.015022e-01</td>\n",
       "      <td>2.774606e-02</td>\n",
       "      <td>5.715478e-21</td>\n",
       "      <td>7.626547e-03</td>\n",
       "      <td>0.000000e+00</td>\n",
       "    </tr>\n",
       "  </tbody>\n",
       "</table>\n",
       "</div>"
      ],
      "text/plain": [
       "                                 ID  Reason for absence  Month of absence  \\\n",
       "ID                     0.000000e+00        4.108190e-44      7.723765e-79   \n",
       "Reason for absence     4.108190e-44        0.000000e+00      8.002549e-14   \n",
       "Month of absence       7.723765e-79        8.002549e-14      0.000000e+00   \n",
       "Day of the week        6.469442e-05        4.481559e-02      5.978949e-01   \n",
       "Seasons                8.649479e-07        9.743721e-18      0.000000e+00   \n",
       "Disciplinary failure   1.068402e-05        6.209839e-47      1.173244e-03   \n",
       "Education              0.000000e+00        3.019780e-10      9.182166e-04   \n",
       "Social drinker        5.240102e-121        1.411095e-08      3.125854e-02   \n",
       "Social smoker         1.110115e-121        1.441534e-07      5.008804e-02   \n",
       "\n",
       "                      Day of the week       Seasons  Disciplinary failure  \\\n",
       "ID                           0.000065  8.649479e-07          1.068402e-05   \n",
       "Reason for absence           0.044816  9.743721e-18          6.209839e-47   \n",
       "Month of absence             0.597895  0.000000e+00          1.173244e-03   \n",
       "Day of the week              0.000000  2.077837e-01          5.804799e-01   \n",
       "Seasons                      0.207784  0.000000e+00          1.596185e-05   \n",
       "Disciplinary failure         0.580480  1.596185e-05          0.000000e+00   \n",
       "Education                    0.597961  3.483862e-02          4.803712e-01   \n",
       "Social drinker               0.651925  2.431226e-01          2.477535e-01   \n",
       "Social smoker                0.821799  1.015022e-01          2.774606e-02   \n",
       "\n",
       "                         Education  Social drinker  Social smoker  \n",
       "ID                    0.000000e+00   5.240102e-121  1.110115e-121  \n",
       "Reason for absence    3.019780e-10    1.411095e-08   1.441534e-07  \n",
       "Month of absence      9.182166e-04    3.125854e-02   5.008804e-02  \n",
       "Day of the week       5.979612e-01    6.519246e-01   8.217987e-01  \n",
       "Seasons               3.483862e-02    2.431226e-01   1.015022e-01  \n",
       "Disciplinary failure  4.803712e-01    2.477535e-01   2.774606e-02  \n",
       "Education             0.000000e+00    2.407969e-34   5.715478e-21  \n",
       "Social drinker        2.407969e-34    0.000000e+00   7.626547e-03  \n",
       "Social smoker         5.715478e-21    7.626547e-03   0.000000e+00  "
      ]
     },
     "execution_count": 52,
     "metadata": {},
     "output_type": "execute_result"
    }
   ],
   "source": [
    "#chi square test\n",
    "\n",
    "factors_paired = [(i,j) for i in cat2 for j in cat2] \n",
    "chi2, p_values =[], []\n",
    "for f in factors_paired:\n",
    "    if f[0] != f[1]:\n",
    "        chitest = chi2_contingency(pd.crosstab(absent[f[0]], absent[f[1]]))\n",
    "        chi2.append(chitest[0])\n",
    "        p_values.append(chitest[1])\n",
    "    else:\n",
    "        chi2.append(0)\n",
    "        p_values.append(0)\n",
    "\n",
    "p1 = np.array(p_values).reshape((9,9))\n",
    "p1 = pd.DataFrame(p1, index=cat2, columns=cat2)\n",
    "p1"
   ]
  },
  {
   "cell_type": "code",
   "execution_count": 53,
   "metadata": {},
   "outputs": [
    {
     "name": "stderr",
     "output_type": "stream",
     "text": [
      "C:\\Users\\dgnc\\Anaconda3\\lib\\site-packages\\sklearn\\ensemble\\weight_boosting.py:29: DeprecationWarning: numpy.core.umath_tests is an internal NumPy module and should not be imported. It will be removed in a future NumPy release.\n",
      "  from numpy.core.umath_tests import inner1d\n"
     ]
    },
    {
     "name": "stdout",
     "output_type": "stream",
     "text": [
      "ID\n",
      "0.03970567671293659\n",
      "Reason for absence\n",
      "0.22014351817761135\n",
      "Month of absence\n",
      "0.0979927204915171\n",
      "Day of the week\n",
      "0.07369999772788126\n",
      "Seasons\n",
      "0.05081257585407998\n",
      "Transportation expense\n",
      "0.05026676171589403\n",
      "Distance from Residence to Work\n",
      "0.1013435934563045\n",
      "Service time\n",
      "0.0137445155335237\n",
      "Age\n",
      "0.03095845167699737\n",
      "Work load Average/day \n",
      "0.13241774849364726\n",
      "Hit target\n",
      "0.06210839858569935\n",
      "Disciplinary failure\n",
      "0.01312968871470251\n",
      "Education\n",
      "0.003366808821992606\n",
      "Son\n",
      "0.01953887801468923\n",
      "Social drinker\n",
      "0.008109743160489635\n",
      "Social smoker\n",
      "0.0026551015532524434\n",
      "Pet\n",
      "0.011065599773050407\n",
      "Weight\n",
      "0.039792101078828884\n",
      "Height\n",
      "0.01482127338111166\n",
      "Body mass index\n",
      "0.01432684707579053\n"
     ]
    },
    {
     "data": {
      "text/plain": [
       "array([False,  True,  True,  True,  True,  True,  True, False, False,\n",
       "        True,  True, False, False, False, False, False, False, False,\n",
       "       False, False])"
      ]
     },
     "execution_count": 53,
     "metadata": {},
     "output_type": "execute_result"
    }
   ],
   "source": [
    "# Feature Importance with Random Forest Regressor\n",
    "from pandas import read_csv\n",
    "from sklearn.ensemble import RandomForestClassifier\n",
    "from sklearn.ensemble import RandomForestRegressor\n",
    "from sklearn.feature_selection import SelectFromModel\n",
    "X = absent.iloc[:,0:20]\n",
    "Y = absent.iloc[:,20]\n",
    "# feature extraction\n",
    "model = RandomForestRegressor(n_estimators = 1000)\n",
    "model.fit(X, Y)\n",
    "prob=model.feature_importances_\n",
    "for a,b in zip(X.columns,prob) :\n",
    "    print(a)\n",
    "    print(b)\n",
    "sel = SelectFromModel( RandomForestRegressor(n_estimators = 1000))\n",
    "sel.fit(X,Y)\n",
    "sel.get_support()\n"
   ]
  },
  {
   "cell_type": "code",
   "execution_count": 54,
   "metadata": {
    "scrolled": true
   },
   "outputs": [],
   "source": [
    "# Dropping Variables \n",
    "absent = absent.drop(['Body mass index', 'Education', 'Social drinker','Social smoker','Disciplinary failure',\n",
    "                      'Service time', 'Age', 'Son', 'Pet', 'Weight', 'Height','Seasons' ], axis=1)"
   ]
  },
  {
   "cell_type": "code",
   "execution_count": 55,
   "metadata": {},
   "outputs": [
    {
     "data": {
      "text/plain": [
       "Index(['ID', 'Reason for absence', 'Month of absence', 'Day of the week',\n",
       "       'Transportation expense', 'Distance from Residence to Work',\n",
       "       'Work load Average/day ', 'Hit target', 'Absenteeism time in hours'],\n",
       "      dtype='object')"
      ]
     },
     "execution_count": 55,
     "metadata": {},
     "output_type": "execute_result"
    }
   ],
   "source": [
    "absent.columns"
   ]
  },
  {
   "cell_type": "code",
   "execution_count": 56,
   "metadata": {},
   "outputs": [
    {
     "data": {
      "text/html": [
       "<div>\n",
       "<style scoped>\n",
       "    .dataframe tbody tr th:only-of-type {\n",
       "        vertical-align: middle;\n",
       "    }\n",
       "\n",
       "    .dataframe tbody tr th {\n",
       "        vertical-align: top;\n",
       "    }\n",
       "\n",
       "    .dataframe thead th {\n",
       "        text-align: right;\n",
       "    }\n",
       "</style>\n",
       "<table border=\"1\" class=\"dataframe\">\n",
       "  <thead>\n",
       "    <tr style=\"text-align: right;\">\n",
       "      <th></th>\n",
       "      <th>ID</th>\n",
       "      <th>Reason for absence</th>\n",
       "      <th>Month of absence</th>\n",
       "      <th>Day of the week</th>\n",
       "      <th>Transportation expense</th>\n",
       "      <th>Distance from Residence to Work</th>\n",
       "      <th>Work load Average/day</th>\n",
       "      <th>Hit target</th>\n",
       "      <th>Absenteeism time in hours</th>\n",
       "    </tr>\n",
       "  </thead>\n",
       "  <tbody>\n",
       "    <tr>\n",
       "      <th>0</th>\n",
       "      <td>11.0</td>\n",
       "      <td>26.0</td>\n",
       "      <td>7.0</td>\n",
       "      <td>3.0</td>\n",
       "      <td>289.0</td>\n",
       "      <td>36.0</td>\n",
       "      <td>239554.0</td>\n",
       "      <td>97.0</td>\n",
       "      <td>4.0</td>\n",
       "    </tr>\n",
       "    <tr>\n",
       "      <th>1</th>\n",
       "      <td>36.0</td>\n",
       "      <td>26.0</td>\n",
       "      <td>7.0</td>\n",
       "      <td>3.0</td>\n",
       "      <td>118.0</td>\n",
       "      <td>13.0</td>\n",
       "      <td>239554.0</td>\n",
       "      <td>97.0</td>\n",
       "      <td>0.0</td>\n",
       "    </tr>\n",
       "    <tr>\n",
       "      <th>2</th>\n",
       "      <td>3.0</td>\n",
       "      <td>23.0</td>\n",
       "      <td>7.0</td>\n",
       "      <td>4.0</td>\n",
       "      <td>179.0</td>\n",
       "      <td>51.0</td>\n",
       "      <td>239554.0</td>\n",
       "      <td>97.0</td>\n",
       "      <td>2.0</td>\n",
       "    </tr>\n",
       "    <tr>\n",
       "      <th>3</th>\n",
       "      <td>7.0</td>\n",
       "      <td>7.0</td>\n",
       "      <td>7.0</td>\n",
       "      <td>5.0</td>\n",
       "      <td>279.0</td>\n",
       "      <td>5.0</td>\n",
       "      <td>239554.0</td>\n",
       "      <td>97.0</td>\n",
       "      <td>4.0</td>\n",
       "    </tr>\n",
       "    <tr>\n",
       "      <th>4</th>\n",
       "      <td>11.0</td>\n",
       "      <td>23.0</td>\n",
       "      <td>7.0</td>\n",
       "      <td>5.0</td>\n",
       "      <td>289.0</td>\n",
       "      <td>36.0</td>\n",
       "      <td>239554.0</td>\n",
       "      <td>97.0</td>\n",
       "      <td>2.0</td>\n",
       "    </tr>\n",
       "  </tbody>\n",
       "</table>\n",
       "</div>"
      ],
      "text/plain": [
       "     ID Reason for absence Month of absence Day of the week  \\\n",
       "0  11.0               26.0              7.0             3.0   \n",
       "1  36.0               26.0              7.0             3.0   \n",
       "2   3.0               23.0              7.0             4.0   \n",
       "3   7.0                7.0              7.0             5.0   \n",
       "4  11.0               23.0              7.0             5.0   \n",
       "\n",
       "   Transportation expense  Distance from Residence to Work  \\\n",
       "0                   289.0                             36.0   \n",
       "1                   118.0                             13.0   \n",
       "2                   179.0                             51.0   \n",
       "3                   279.0                              5.0   \n",
       "4                   289.0                             36.0   \n",
       "\n",
       "   Work load Average/day   Hit target  Absenteeism time in hours  \n",
       "0                239554.0        97.0                        4.0  \n",
       "1                239554.0        97.0                        0.0  \n",
       "2                239554.0        97.0                        2.0  \n",
       "3                239554.0        97.0                        4.0  \n",
       "4                239554.0        97.0                        2.0  "
      ]
     },
     "execution_count": 56,
     "metadata": {},
     "output_type": "execute_result"
    }
   ],
   "source": [
    "absent.head(5)"
   ]
  },
  {
   "cell_type": "code",
   "execution_count": 57,
   "metadata": {},
   "outputs": [],
   "source": [
    "#saving train data after pre processing\n",
    "absent.to_csv(\"absent.csv\",index=False)"
   ]
  },
  {
   "cell_type": "code",
   "execution_count": 67,
   "metadata": {},
   "outputs": [],
   "source": [
    "absent=pd.read_csv('absent.csv')"
   ]
  },
  {
   "cell_type": "code",
   "execution_count": 58,
   "metadata": {},
   "outputs": [],
   "source": [
    "df3=absent.copy()\n",
    "#absent=df3.copy()"
   ]
  },
  {
   "cell_type": "markdown",
   "metadata": {},
   "source": [
    "# Model Development"
   ]
  },
  {
   "cell_type": "code",
   "execution_count": 59,
   "metadata": {},
   "outputs": [
    {
     "data": {
      "text/html": [
       "<div>\n",
       "<style scoped>\n",
       "    .dataframe tbody tr th:only-of-type {\n",
       "        vertical-align: middle;\n",
       "    }\n",
       "\n",
       "    .dataframe tbody tr th {\n",
       "        vertical-align: top;\n",
       "    }\n",
       "\n",
       "    .dataframe thead th {\n",
       "        text-align: right;\n",
       "    }\n",
       "</style>\n",
       "<table border=\"1\" class=\"dataframe\">\n",
       "  <thead>\n",
       "    <tr style=\"text-align: right;\">\n",
       "      <th></th>\n",
       "      <th>ID</th>\n",
       "      <th>Reason for absence</th>\n",
       "      <th>Month of absence</th>\n",
       "      <th>Day of the week</th>\n",
       "      <th>Transportation expense</th>\n",
       "      <th>Distance from Residence to Work</th>\n",
       "      <th>Work load Average/day</th>\n",
       "      <th>Hit target</th>\n",
       "      <th>Absenteeism time in hours</th>\n",
       "    </tr>\n",
       "  </thead>\n",
       "  <tbody>\n",
       "    <tr>\n",
       "      <th>0</th>\n",
       "      <td>11.0</td>\n",
       "      <td>26.0</td>\n",
       "      <td>7.0</td>\n",
       "      <td>3.0</td>\n",
       "      <td>289.0</td>\n",
       "      <td>36.0</td>\n",
       "      <td>239554.0</td>\n",
       "      <td>97.0</td>\n",
       "      <td>4.0</td>\n",
       "    </tr>\n",
       "    <tr>\n",
       "      <th>1</th>\n",
       "      <td>36.0</td>\n",
       "      <td>26.0</td>\n",
       "      <td>7.0</td>\n",
       "      <td>3.0</td>\n",
       "      <td>118.0</td>\n",
       "      <td>13.0</td>\n",
       "      <td>239554.0</td>\n",
       "      <td>97.0</td>\n",
       "      <td>0.0</td>\n",
       "    </tr>\n",
       "    <tr>\n",
       "      <th>2</th>\n",
       "      <td>3.0</td>\n",
       "      <td>23.0</td>\n",
       "      <td>7.0</td>\n",
       "      <td>4.0</td>\n",
       "      <td>179.0</td>\n",
       "      <td>51.0</td>\n",
       "      <td>239554.0</td>\n",
       "      <td>97.0</td>\n",
       "      <td>2.0</td>\n",
       "    </tr>\n",
       "    <tr>\n",
       "      <th>3</th>\n",
       "      <td>7.0</td>\n",
       "      <td>7.0</td>\n",
       "      <td>7.0</td>\n",
       "      <td>5.0</td>\n",
       "      <td>279.0</td>\n",
       "      <td>5.0</td>\n",
       "      <td>239554.0</td>\n",
       "      <td>97.0</td>\n",
       "      <td>4.0</td>\n",
       "    </tr>\n",
       "    <tr>\n",
       "      <th>4</th>\n",
       "      <td>11.0</td>\n",
       "      <td>23.0</td>\n",
       "      <td>7.0</td>\n",
       "      <td>5.0</td>\n",
       "      <td>289.0</td>\n",
       "      <td>36.0</td>\n",
       "      <td>239554.0</td>\n",
       "      <td>97.0</td>\n",
       "      <td>2.0</td>\n",
       "    </tr>\n",
       "  </tbody>\n",
       "</table>\n",
       "</div>"
      ],
      "text/plain": [
       "     ID Reason for absence Month of absence Day of the week  \\\n",
       "0  11.0               26.0              7.0             3.0   \n",
       "1  36.0               26.0              7.0             3.0   \n",
       "2   3.0               23.0              7.0             4.0   \n",
       "3   7.0                7.0              7.0             5.0   \n",
       "4  11.0               23.0              7.0             5.0   \n",
       "\n",
       "   Transportation expense  Distance from Residence to Work  \\\n",
       "0                   289.0                             36.0   \n",
       "1                   118.0                             13.0   \n",
       "2                   179.0                             51.0   \n",
       "3                   279.0                              5.0   \n",
       "4                   289.0                             36.0   \n",
       "\n",
       "   Work load Average/day   Hit target  Absenteeism time in hours  \n",
       "0                239554.0        97.0                        4.0  \n",
       "1                239554.0        97.0                        0.0  \n",
       "2                239554.0        97.0                        2.0  \n",
       "3                239554.0        97.0                        4.0  \n",
       "4                239554.0        97.0                        2.0  "
      ]
     },
     "execution_count": 59,
     "metadata": {},
     "output_type": "execute_result"
    }
   ],
   "source": [
    "absent.head()"
   ]
  },
  {
   "cell_type": "code",
   "execution_count": 60,
   "metadata": {},
   "outputs": [
    {
     "data": {
      "text/plain": [
       "(676, 9)"
      ]
     },
     "execution_count": 60,
     "metadata": {},
     "output_type": "execute_result"
    }
   ],
   "source": [
    "# creating a copy of absent dataframe\n",
    "absent1=absent.copy()\n",
    "absent.shape"
   ]
  },
  {
   "cell_type": "code",
   "execution_count": 61,
   "metadata": {},
   "outputs": [],
   "source": [
    "# dropping the observations where month of absence is equal to 0\n",
    "absent1 = absent1.drop(absent1[absent1['Month of absence']==0].index)"
   ]
  },
  {
   "cell_type": "markdown",
   "metadata": {},
   "source": [
    " creating a new variable month_no which increases with every next month that comes .This is done so that data\n",
    " can be arranged in proper sequence because no year variable is provided,therefore we cant compare dates here as month of   absence(1-12) repeats itself after every 12 months.\n",
    "  As first month that comes in data is july i.e month =7 .Therfore we will start with month_no=7 and increase it with every next\n",
    " month that comes in data"
   ]
  },
  {
   "cell_type": "code",
   "execution_count": 62,
   "metadata": {},
   "outputs": [],
   "source": [
    "absent1['month_no']=7"
   ]
  },
  {
   "cell_type": "code",
   "execution_count": 63,
   "metadata": {},
   "outputs": [],
   "source": [
    "absent1.loc[0:18,'month_no']=7\n",
    "absent1.loc[236:251,'month_no']=19\n",
    "absent1.loc[460:479,'month_no']=31\n",
    "absent1.loc[725:736,'month_no']=43"
   ]
  },
  {
   "cell_type": "code",
   "execution_count": 64,
   "metadata": {},
   "outputs": [],
   "source": [
    "absent1.loc[19:39,'month_no']=8\n",
    "absent1.loc[252:269,'month_no']=20\n",
    "absent1.loc[480:494,'month_no']=32"
   ]
  },
  {
   "cell_type": "code",
   "execution_count": 65,
   "metadata": {},
   "outputs": [],
   "source": [
    "absent1.loc[40:61,'month_no']=9\n",
    "absent1.loc[270:288,'month_no']=21\n",
    "absent1.loc[495:506,'month_no']=33"
   ]
  },
  {
   "cell_type": "code",
   "execution_count": 66,
   "metadata": {},
   "outputs": [],
   "source": [
    "absent1.loc[62:79,'month_no']=10\n",
    "absent1.loc[289:316,'month_no']=22\n",
    "absent1.loc[507:531,'month_no']=34"
   ]
  },
  {
   "cell_type": "code",
   "execution_count": 67,
   "metadata": {},
   "outputs": [],
   "source": [
    "absent1.loc[80:97,'month_no']=11\n",
    "absent1.loc[317:338,'month_no']=23\n",
    "absent1.loc[532:554,'month_no']=35"
   ]
  },
  {
   "cell_type": "code",
   "execution_count": 68,
   "metadata": {},
   "outputs": [],
   "source": [
    "absent1.loc[98:112,'month_no']=12\n",
    "absent1.loc[339:357,'month_no']=24\n",
    "absent1.loc[555:569,'month_no']=36"
   ]
  },
  {
   "cell_type": "code",
   "execution_count": 69,
   "metadata": {},
   "outputs": [],
   "source": [
    "absent1.loc[113:136,'month_no']=13\n",
    "absent1.loc[358:368,'month_no']=25\n",
    "absent1.loc[570:584,'month_no']=37"
   ]
  },
  {
   "cell_type": "code",
   "execution_count": 70,
   "metadata": {},
   "outputs": [],
   "source": [
    "absent1.loc[137:154,'month_no']=14\n",
    "absent1.loc[369:389,'month_no']=26\n",
    "absent1.loc[585:617,'month_no']=38"
   ]
  },
  {
   "cell_type": "code",
   "execution_count": 71,
   "metadata": {},
   "outputs": [],
   "source": [
    "absent1.loc[155:183,'month_no']=15\n",
    "absent1.loc[390:411,'month_no']=27\n",
    "absent1.loc[618:653,'month_no']=39"
   ]
  },
  {
   "cell_type": "code",
   "execution_count": 72,
   "metadata": {},
   "outputs": [],
   "source": [
    "absent1.loc[184:203,'month_no']=16\n",
    "absent1.loc[412:424,'month_no']=28\n",
    "absent1.loc[654:673,'month_no']=40"
   ]
  },
  {
   "cell_type": "code",
   "execution_count": 73,
   "metadata": {},
   "outputs": [],
   "source": [
    "absent1.loc[204:219,'month_no']=17\n",
    "absent1.loc[425:440,'month_no']=29\n",
    "absent1.loc[674:705,'month_no']=41"
   ]
  },
  {
   "cell_type": "code",
   "execution_count": 74,
   "metadata": {},
   "outputs": [],
   "source": [
    "absent1.loc[220:235,'month_no']=18\n",
    "absent1.loc[441:459,'month_no']=30\n",
    "absent1.loc[706:724,'month_no']=42"
   ]
  },
  {
   "cell_type": "code",
   "execution_count": 75,
   "metadata": {},
   "outputs": [
    {
     "data": {
      "text/plain": [
       "(673, 10)"
      ]
     },
     "execution_count": 75,
     "metadata": {},
     "output_type": "execute_result"
    }
   ],
   "source": [
    "absent1.shape"
   ]
  },
  {
   "cell_type": "code",
   "execution_count": 76,
   "metadata": {},
   "outputs": [],
   "source": [
    "absent1=absent1.drop(['Month of absence'],axis=1)"
   ]
  },
  {
   "cell_type": "code",
   "execution_count": 77,
   "metadata": {},
   "outputs": [
    {
     "data": {
      "text/plain": [
       "Index(['ID', 'Reason for absence', 'Day of the week', 'Transportation expense',\n",
       "       'Distance from Residence to Work', 'Work load Average/day ',\n",
       "       'Hit target', 'Absenteeism time in hours', 'month_no'],\n",
       "      dtype='object')"
      ]
     },
     "execution_count": 77,
     "metadata": {},
     "output_type": "execute_result"
    }
   ],
   "source": [
    "absent1.columns"
   ]
  },
  {
   "cell_type": "code",
   "execution_count": 78,
   "metadata": {},
   "outputs": [
    {
     "data": {
      "text/html": [
       "<div>\n",
       "<style scoped>\n",
       "    .dataframe tbody tr th:only-of-type {\n",
       "        vertical-align: middle;\n",
       "    }\n",
       "\n",
       "    .dataframe tbody tr th {\n",
       "        vertical-align: top;\n",
       "    }\n",
       "\n",
       "    .dataframe thead th {\n",
       "        text-align: right;\n",
       "    }\n",
       "</style>\n",
       "<table border=\"1\" class=\"dataframe\">\n",
       "  <thead>\n",
       "    <tr style=\"text-align: right;\">\n",
       "      <th></th>\n",
       "      <th>ID</th>\n",
       "      <th>Reason for absence</th>\n",
       "      <th>Day of the week</th>\n",
       "      <th>Transportation expense</th>\n",
       "      <th>Distance from Residence to Work</th>\n",
       "      <th>Work load Average/day</th>\n",
       "      <th>Hit target</th>\n",
       "      <th>Absenteeism time in hours</th>\n",
       "      <th>month_no</th>\n",
       "      <th>Last_month_absent</th>\n",
       "      <th>Last_month_Diff</th>\n",
       "    </tr>\n",
       "  </thead>\n",
       "  <tbody>\n",
       "    <tr>\n",
       "      <th>5</th>\n",
       "      <td>3.0</td>\n",
       "      <td>23.0</td>\n",
       "      <td>6.0</td>\n",
       "      <td>179.0</td>\n",
       "      <td>51.0</td>\n",
       "      <td>239554.0</td>\n",
       "      <td>97.0</td>\n",
       "      <td>2.0</td>\n",
       "      <td>7</td>\n",
       "      <td>2.0</td>\n",
       "      <td>0.0</td>\n",
       "    </tr>\n",
       "    <tr>\n",
       "      <th>7</th>\n",
       "      <td>20.0</td>\n",
       "      <td>23.0</td>\n",
       "      <td>6.0</td>\n",
       "      <td>260.0</td>\n",
       "      <td>50.0</td>\n",
       "      <td>239554.0</td>\n",
       "      <td>97.0</td>\n",
       "      <td>4.0</td>\n",
       "      <td>7</td>\n",
       "      <td>2.0</td>\n",
       "      <td>0.0</td>\n",
       "    </tr>\n",
       "    <tr>\n",
       "      <th>14</th>\n",
       "      <td>3.0</td>\n",
       "      <td>23.0</td>\n",
       "      <td>4.0</td>\n",
       "      <td>179.0</td>\n",
       "      <td>51.0</td>\n",
       "      <td>239554.0</td>\n",
       "      <td>97.0</td>\n",
       "      <td>4.0</td>\n",
       "      <td>7</td>\n",
       "      <td>4.0</td>\n",
       "      <td>2.0</td>\n",
       "    </tr>\n",
       "    <tr>\n",
       "      <th>16</th>\n",
       "      <td>3.0</td>\n",
       "      <td>23.0</td>\n",
       "      <td>6.0</td>\n",
       "      <td>179.0</td>\n",
       "      <td>51.0</td>\n",
       "      <td>239554.0</td>\n",
       "      <td>97.0</td>\n",
       "      <td>2.0</td>\n",
       "      <td>7</td>\n",
       "      <td>4.0</td>\n",
       "      <td>0.0</td>\n",
       "    </tr>\n",
       "    <tr>\n",
       "      <th>18</th>\n",
       "      <td>6.0</td>\n",
       "      <td>11.0</td>\n",
       "      <td>5.0</td>\n",
       "      <td>189.0</td>\n",
       "      <td>29.0</td>\n",
       "      <td>239554.0</td>\n",
       "      <td>97.0</td>\n",
       "      <td>8.0</td>\n",
       "      <td>7</td>\n",
       "      <td>1.0</td>\n",
       "      <td>-7.0</td>\n",
       "    </tr>\n",
       "  </tbody>\n",
       "</table>\n",
       "</div>"
      ],
      "text/plain": [
       "      ID Reason for absence Day of the week  Transportation expense  \\\n",
       "5    3.0               23.0             6.0                   179.0   \n",
       "7   20.0               23.0             6.0                   260.0   \n",
       "14   3.0               23.0             4.0                   179.0   \n",
       "16   3.0               23.0             6.0                   179.0   \n",
       "18   6.0               11.0             5.0                   189.0   \n",
       "\n",
       "    Distance from Residence to Work  Work load Average/day   Hit target  \\\n",
       "5                              51.0                239554.0        97.0   \n",
       "7                              50.0                239554.0        97.0   \n",
       "14                             51.0                239554.0        97.0   \n",
       "16                             51.0                239554.0        97.0   \n",
       "18                             29.0                239554.0        97.0   \n",
       "\n",
       "    Absenteeism time in hours  month_no  Last_month_absent  Last_month_Diff  \n",
       "5                         2.0         7                2.0              0.0  \n",
       "7                         4.0         7                2.0              0.0  \n",
       "14                        4.0         7                4.0              2.0  \n",
       "16                        2.0         7                4.0              0.0  \n",
       "18                        8.0         7                1.0             -7.0  "
      ]
     },
     "execution_count": 78,
     "metadata": {},
     "output_type": "execute_result"
    }
   ],
   "source": [
    "# basic Feature Engineering\n",
    "\n",
    "absent2 = absent1.copy()\n",
    "absent2['Last_month_absent'] = absent2.groupby(['Reason for absence'])['Absenteeism time in hours'].shift()\n",
    "absent2['Last_month_Diff'] = absent2.groupby(['Reason for absence'])['Last_month_absent'].diff()\n",
    "absent2 = absent2.dropna()\n",
    "absent2.head()"
   ]
  },
  {
   "cell_type": "code",
   "execution_count": 79,
   "metadata": {},
   "outputs": [],
   "source": [
    "# Error metrics\n",
    "\n",
    "from sklearn.metrics import mean_squared_error\n",
    "from sklearn.metrics import mean_squared_log_error\n",
    "from math import sqrt\n",
    "def rmsle(ytrue, ypred):\n",
    "    return np.sqrt(mean_squared_log_error(ytrue, ypred))\n",
    "def rmse(ytrue,ypred):\n",
    "    return np.sqrt(mean_squared_error(ytrue,ypred))"
   ]
  },
  {
   "cell_type": "code",
   "execution_count": 80,
   "metadata": {},
   "outputs": [
    {
     "name": "stdout",
     "output_type": "stream",
     "text": [
      "month 30 - Error 1.07451\n",
      "month 31 - Error 0.62986\n",
      "month 32 - Error 0.82970\n",
      "month 33 - Error 0.80748\n",
      "month 34 - Error 0.87290\n",
      "month 35 - Error 0.42685\n",
      "month 36 - Error 1.17229\n",
      "month 37 - Error 1.11548\n",
      "month 38 - Error 0.50181\n",
      "month 39 - Error 0.83439\n",
      "month 40 - Error 0.78824\n",
      "month 41 - Error 1.00974\n",
      "month 42 - Error 0.88074\n",
      "month 43 - Error 1.23777\n",
      "Mean Error = 0.87013\n"
     ]
    }
   ],
   "source": [
    "# setting Baseline \n",
    "mean_error = []\n",
    "for month in range(30,44):\n",
    "    train = absent2[absent2['month_no'] < month]\n",
    "    val = absent2[absent2['month_no'] == month]\n",
    "    \n",
    "    p = val['Last_month_absent'].values\n",
    "    \n",
    "    error = rmsle(val['Absenteeism time in hours'].values, p)\n",
    "    print('month %d - Error %.5f' % (month, error))\n",
    "    mean_error.append(error)\n",
    "print('Mean Error = %.5f' % np.mean(mean_error))"
   ]
  },
  {
   "cell_type": "code",
   "execution_count": 81,
   "metadata": {},
   "outputs": [
    {
     "data": {
      "text/plain": [
       "<matplotlib.axes._subplots.AxesSubplot at 0x1b798aefd30>"
      ]
     },
     "execution_count": 81,
     "metadata": {},
     "output_type": "execute_result"
    },
    {
     "data": {
      "image/png": "[encoded data removed]",
      "text/plain": [
       "<Figure size 720x360 with 1 Axes>"
      ]
     },
     "metadata": {},
     "output_type": "display_data"
    }
   ],
   "source": [
    "absent2['Absenteeism time in hours'].hist(bins=20, figsize=(10,5))"
   ]
  },
  {
   "cell_type": "code",
   "execution_count": 82,
   "metadata": {},
   "outputs": [
    {
     "name": "stdout",
     "output_type": "stream",
     "text": [
      "month 30 - Error 0.81608\n",
      "month 31 - Error 0.95667\n",
      "month 32 - Error 0.59812\n",
      "month 33 - Error 0.66766\n",
      "month 34 - Error 0.68925\n",
      "month 35 - Error 0.96420\n",
      "month 36 - Error 0.88103\n",
      "month 37 - Error 0.69309\n",
      "month 38 - Error 0.52340\n",
      "month 39 - Error 0.61791\n",
      "month 40 - Error 0.79865\n",
      "month 41 - Error 0.88338\n",
      "month 42 - Error 0.95116\n",
      "month 43 - Error 0.86958\n",
      "Mean Error = 0.77930\n"
     ]
    }
   ],
   "source": [
    "# creating Model using Random forest\n",
    "\n",
    "from sklearn.ensemble import RandomForestRegressor\n",
    "mean_error = []\n",
    "for month in range(30,44):\n",
    "    train = absent2[absent2['month_no'] < month]\n",
    "    val = absent2[absent2['month_no'] == month]\n",
    "    \n",
    "    xtr, xts = train.drop(['Absenteeism time in hours'], axis=1), val.drop(['Absenteeism time in hours'], axis=1)\n",
    "    ytr, yts = train['Absenteeism time in hours'].values, val['Absenteeism time in hours'].values\n",
    "    \n",
    "    mdl = RandomForestRegressor(n_estimators=1000, n_jobs=-1, random_state=0)\n",
    "    mdl.fit(xtr, ytr)\n",
    "    \n",
    "    p = mdl.predict(xts)\n",
    "    \n",
    "    error = rmsle(yts, p)\n",
    "    print('month %d - Error %.5f' % (month, error))\n",
    "    mean_error.append(error)\n",
    "print('Mean Error = %.5f' % np.mean(mean_error))"
   ]
  },
  {
   "cell_type": "code",
   "execution_count": 83,
   "metadata": {},
   "outputs": [
    {
     "data": {
      "text/html": [
       "<div>\n",
       "<style scoped>\n",
       "    .dataframe tbody tr th:only-of-type {\n",
       "        vertical-align: middle;\n",
       "    }\n",
       "\n",
       "    .dataframe tbody tr th {\n",
       "        vertical-align: top;\n",
       "    }\n",
       "\n",
       "    .dataframe thead th {\n",
       "        text-align: right;\n",
       "    }\n",
       "</style>\n",
       "<table border=\"1\" class=\"dataframe\">\n",
       "  <thead>\n",
       "    <tr style=\"text-align: right;\">\n",
       "      <th></th>\n",
       "      <th>ID</th>\n",
       "      <th>Reason for absence</th>\n",
       "      <th>Day of the week</th>\n",
       "      <th>Transportation expense</th>\n",
       "      <th>Distance from Residence to Work</th>\n",
       "      <th>Work load Average/day</th>\n",
       "      <th>Hit target</th>\n",
       "      <th>Absenteeism time in hours</th>\n",
       "      <th>month_no</th>\n",
       "      <th>Last_month_absent</th>\n",
       "      <th>Last_month_Diff</th>\n",
       "      <th>Last-1_month_absent</th>\n",
       "      <th>Last-1_month_Diff</th>\n",
       "      <th>Last-2_month_absent</th>\n",
       "      <th>Last-2_month_Diff</th>\n",
       "    </tr>\n",
       "  </thead>\n",
       "  <tbody>\n",
       "    <tr>\n",
       "      <th>29</th>\n",
       "      <td>3.0</td>\n",
       "      <td>23.0</td>\n",
       "      <td>6.0</td>\n",
       "      <td>179.0</td>\n",
       "      <td>51.0</td>\n",
       "      <td>205917.0</td>\n",
       "      <td>92.0</td>\n",
       "      <td>2.0</td>\n",
       "      <td>8</td>\n",
       "      <td>2.0</td>\n",
       "      <td>-2.0</td>\n",
       "      <td>4.0</td>\n",
       "      <td>2.0</td>\n",
       "      <td>2.0</td>\n",
       "      <td>0.0</td>\n",
       "    </tr>\n",
       "    <tr>\n",
       "      <th>34</th>\n",
       "      <td>3.0</td>\n",
       "      <td>23.0</td>\n",
       "      <td>2.0</td>\n",
       "      <td>179.0</td>\n",
       "      <td>51.0</td>\n",
       "      <td>205917.0</td>\n",
       "      <td>92.0</td>\n",
       "      <td>2.0</td>\n",
       "      <td>8</td>\n",
       "      <td>2.0</td>\n",
       "      <td>0.0</td>\n",
       "      <td>2.0</td>\n",
       "      <td>-2.0</td>\n",
       "      <td>4.0</td>\n",
       "      <td>2.0</td>\n",
       "    </tr>\n",
       "    <tr>\n",
       "      <th>42</th>\n",
       "      <td>3.0</td>\n",
       "      <td>23.0</td>\n",
       "      <td>3.0</td>\n",
       "      <td>179.0</td>\n",
       "      <td>51.0</td>\n",
       "      <td>241476.0</td>\n",
       "      <td>92.0</td>\n",
       "      <td>4.0</td>\n",
       "      <td>9</td>\n",
       "      <td>2.0</td>\n",
       "      <td>0.0</td>\n",
       "      <td>2.0</td>\n",
       "      <td>0.0</td>\n",
       "      <td>2.0</td>\n",
       "      <td>-2.0</td>\n",
       "    </tr>\n",
       "    <tr>\n",
       "      <th>46</th>\n",
       "      <td>3.0</td>\n",
       "      <td>23.0</td>\n",
       "      <td>3.0</td>\n",
       "      <td>179.0</td>\n",
       "      <td>51.0</td>\n",
       "      <td>241476.0</td>\n",
       "      <td>92.0</td>\n",
       "      <td>3.0</td>\n",
       "      <td>9</td>\n",
       "      <td>4.0</td>\n",
       "      <td>2.0</td>\n",
       "      <td>2.0</td>\n",
       "      <td>0.0</td>\n",
       "      <td>2.0</td>\n",
       "      <td>0.0</td>\n",
       "    </tr>\n",
       "    <tr>\n",
       "      <th>57</th>\n",
       "      <td>3.0</td>\n",
       "      <td>23.0</td>\n",
       "      <td>4.0</td>\n",
       "      <td>179.0</td>\n",
       "      <td>51.0</td>\n",
       "      <td>241476.0</td>\n",
       "      <td>92.0</td>\n",
       "      <td>3.0</td>\n",
       "      <td>9</td>\n",
       "      <td>3.0</td>\n",
       "      <td>-1.0</td>\n",
       "      <td>4.0</td>\n",
       "      <td>2.0</td>\n",
       "      <td>2.0</td>\n",
       "      <td>0.0</td>\n",
       "    </tr>\n",
       "  </tbody>\n",
       "</table>\n",
       "</div>"
      ],
      "text/plain": [
       "     ID Reason for absence Day of the week  Transportation expense  \\\n",
       "29  3.0               23.0             6.0                   179.0   \n",
       "34  3.0               23.0             2.0                   179.0   \n",
       "42  3.0               23.0             3.0                   179.0   \n",
       "46  3.0               23.0             3.0                   179.0   \n",
       "57  3.0               23.0             4.0                   179.0   \n",
       "\n",
       "    Distance from Residence to Work  Work load Average/day   Hit target  \\\n",
       "29                             51.0                205917.0        92.0   \n",
       "34                             51.0                205917.0        92.0   \n",
       "42                             51.0                241476.0        92.0   \n",
       "46                             51.0                241476.0        92.0   \n",
       "57                             51.0                241476.0        92.0   \n",
       "\n",
       "    Absenteeism time in hours  month_no  Last_month_absent  Last_month_Diff  \\\n",
       "29                        2.0         8                2.0             -2.0   \n",
       "34                        2.0         8                2.0              0.0   \n",
       "42                        4.0         9                2.0              0.0   \n",
       "46                        3.0         9                4.0              2.0   \n",
       "57                        3.0         9                3.0             -1.0   \n",
       "\n",
       "    Last-1_month_absent  Last-1_month_Diff  Last-2_month_absent  \\\n",
       "29                  4.0                2.0                  2.0   \n",
       "34                  2.0               -2.0                  4.0   \n",
       "42                  2.0                0.0                  2.0   \n",
       "46                  2.0                0.0                  2.0   \n",
       "57                  4.0                2.0                  2.0   \n",
       "\n",
       "    Last-2_month_Diff  \n",
       "29                0.0  \n",
       "34                2.0  \n",
       "42               -2.0  \n",
       "46                0.0  \n",
       "57                0.0  "
      ]
     },
     "execution_count": 83,
     "metadata": {},
     "output_type": "execute_result"
    }
   ],
   "source": [
    "# basic Feature Engineering again increasing the number of shifts and diff\n",
    "absent3 = absent1.copy()\n",
    "absent3['Last_month_absent'] = absent3.groupby(['Reason for absence','ID'])['Absenteeism time in hours'].shift()\n",
    "absent3['Last_month_Diff'] = absent3.groupby(['Reason for absence','ID'])['Last_month_absent'].diff()\n",
    "absent3['Last-1_month_absent'] = absent3.groupby(['Reason for absence','ID'])['Absenteeism time in hours'].shift(2)\n",
    "absent3['Last-1_month_Diff'] = absent3.groupby(['Reason for absence','ID'])['Last-1_month_absent'].diff()\n",
    "absent3['Last-2_month_absent'] = absent3.groupby(['Reason for absence','ID'])['Absenteeism time in hours'].shift(3)\n",
    "absent3['Last-2_month_Diff'] = absent3.groupby(['Reason for absence','ID'])['Last-2_month_absent'].diff()\n",
    "absent3 = absent3.dropna()\n",
    "absent3.head()"
   ]
  },
  {
   "cell_type": "code",
   "execution_count": 84,
   "metadata": {},
   "outputs": [
    {
     "name": "stdout",
     "output_type": "stream",
     "text": [
      "month 30 - Error 0.61069\n",
      "month 31 - Error 0.47354\n",
      "month 32 - Error 0.35819\n",
      "month 33 - Error 0.47349\n",
      "month 34 - Error 0.38847\n",
      "month 35 - Error 1.01589\n",
      "month 36 - Error 0.55634\n",
      "month 37 - Error 0.28217\n",
      "month 38 - Error 0.21883\n",
      "month 39 - Error 0.60494\n",
      "month 40 - Error 0.20875\n",
      "month 41 - Error 0.56640\n",
      "month 42 - Error 0.14942\n",
      "month 43 - Error 0.13001\n",
      "Mean Error = 0.43122\n"
     ]
    }
   ],
   "source": [
    "# creating Model using Random forest\n",
    "\n",
    "from sklearn.ensemble import RandomForestRegressor\n",
    "mean_error = []\n",
    "for month in range(30,44):\n",
    "    train = absent3[absent3['month_no'] < month]\n",
    "    val = absent3[absent3['month_no'] == month]\n",
    "    \n",
    "    xtr, xts = train.drop(['Absenteeism time in hours'], axis=1), val.drop(['Absenteeism time in hours'], axis=1)\n",
    "    ytr, yts = train['Absenteeism time in hours'].values, val['Absenteeism time in hours'].values\n",
    "    \n",
    "    mdl = RandomForestRegressor(n_estimators=1000, n_jobs=-1, random_state=0)\n",
    "    mdl.fit(xtr, np.log1p(ytr))\n",
    "    \n",
    "    p = np.expm1(mdl.predict(xts))\n",
    "    \n",
    "    error = rmsle(yts, p)\n",
    "    print('month %d - Error %.5f' % (month, error))\n",
    "    mean_error.append(error)\n",
    "print('Mean Error = %.5f' % np.mean(mean_error))"
   ]
  },
  {
   "cell_type": "code",
   "execution_count": 85,
   "metadata": {},
   "outputs": [
    {
     "data": {
      "text/html": [
       "<div>\n",
       "<style scoped>\n",
       "    .dataframe tbody tr th:only-of-type {\n",
       "        vertical-align: middle;\n",
       "    }\n",
       "\n",
       "    .dataframe tbody tr th {\n",
       "        vertical-align: top;\n",
       "    }\n",
       "\n",
       "    .dataframe thead th {\n",
       "        text-align: right;\n",
       "    }\n",
       "</style>\n",
       "<table border=\"1\" class=\"dataframe\">\n",
       "  <thead>\n",
       "    <tr style=\"text-align: right;\">\n",
       "      <th></th>\n",
       "      <th>ID</th>\n",
       "      <th>Reason for absence</th>\n",
       "      <th>Day of the week</th>\n",
       "      <th>Transportation expense</th>\n",
       "      <th>Distance from Residence to Work</th>\n",
       "      <th>Work load Average/day</th>\n",
       "      <th>Hit target</th>\n",
       "      <th>Absenteeism time in hours</th>\n",
       "      <th>month_no</th>\n",
       "      <th>Last_month_absent</th>\n",
       "      <th>...</th>\n",
       "      <th>Last-3_month_absent</th>\n",
       "      <th>Last-3_month_Diff</th>\n",
       "      <th>Last-4_month_absent</th>\n",
       "      <th>Last-4_month_Diff</th>\n",
       "      <th>Last-5_month_absent</th>\n",
       "      <th>Last-5_month_Diff</th>\n",
       "      <th>Last-6_month_absent</th>\n",
       "      <th>Last-6_month_Diff</th>\n",
       "      <th>Last-7_month_absent</th>\n",
       "      <th>Last-7_month_Diff</th>\n",
       "    </tr>\n",
       "  </thead>\n",
       "  <tbody>\n",
       "    <tr>\n",
       "      <th>60</th>\n",
       "      <td>3.0</td>\n",
       "      <td>23.0</td>\n",
       "      <td>6.0</td>\n",
       "      <td>179.0</td>\n",
       "      <td>51.0</td>\n",
       "      <td>241476.0</td>\n",
       "      <td>92.0</td>\n",
       "      <td>3.0</td>\n",
       "      <td>9</td>\n",
       "      <td>3.0</td>\n",
       "      <td>...</td>\n",
       "      <td>2.0</td>\n",
       "      <td>0.0</td>\n",
       "      <td>2.0</td>\n",
       "      <td>0.0</td>\n",
       "      <td>2.0</td>\n",
       "      <td>-2.0</td>\n",
       "      <td>4.0</td>\n",
       "      <td>2.0</td>\n",
       "      <td>2.0</td>\n",
       "      <td>0.0</td>\n",
       "    </tr>\n",
       "    <tr>\n",
       "      <th>62</th>\n",
       "      <td>3.0</td>\n",
       "      <td>23.0</td>\n",
       "      <td>3.0</td>\n",
       "      <td>179.0</td>\n",
       "      <td>51.0</td>\n",
       "      <td>253465.0</td>\n",
       "      <td>93.0</td>\n",
       "      <td>3.0</td>\n",
       "      <td>10</td>\n",
       "      <td>3.0</td>\n",
       "      <td>...</td>\n",
       "      <td>4.0</td>\n",
       "      <td>2.0</td>\n",
       "      <td>2.0</td>\n",
       "      <td>0.0</td>\n",
       "      <td>2.0</td>\n",
       "      <td>0.0</td>\n",
       "      <td>2.0</td>\n",
       "      <td>-2.0</td>\n",
       "      <td>4.0</td>\n",
       "      <td>2.0</td>\n",
       "    </tr>\n",
       "    <tr>\n",
       "      <th>66</th>\n",
       "      <td>3.0</td>\n",
       "      <td>23.0</td>\n",
       "      <td>6.0</td>\n",
       "      <td>179.0</td>\n",
       "      <td>51.0</td>\n",
       "      <td>253465.0</td>\n",
       "      <td>93.0</td>\n",
       "      <td>3.0</td>\n",
       "      <td>10</td>\n",
       "      <td>3.0</td>\n",
       "      <td>...</td>\n",
       "      <td>3.0</td>\n",
       "      <td>-1.0</td>\n",
       "      <td>4.0</td>\n",
       "      <td>2.0</td>\n",
       "      <td>2.0</td>\n",
       "      <td>0.0</td>\n",
       "      <td>2.0</td>\n",
       "      <td>0.0</td>\n",
       "      <td>2.0</td>\n",
       "      <td>-2.0</td>\n",
       "    </tr>\n",
       "    <tr>\n",
       "      <th>72</th>\n",
       "      <td>3.0</td>\n",
       "      <td>23.0</td>\n",
       "      <td>4.0</td>\n",
       "      <td>179.0</td>\n",
       "      <td>51.0</td>\n",
       "      <td>253465.0</td>\n",
       "      <td>93.0</td>\n",
       "      <td>8.0</td>\n",
       "      <td>10</td>\n",
       "      <td>3.0</td>\n",
       "      <td>...</td>\n",
       "      <td>3.0</td>\n",
       "      <td>0.0</td>\n",
       "      <td>3.0</td>\n",
       "      <td>-1.0</td>\n",
       "      <td>4.0</td>\n",
       "      <td>2.0</td>\n",
       "      <td>2.0</td>\n",
       "      <td>0.0</td>\n",
       "      <td>2.0</td>\n",
       "      <td>0.0</td>\n",
       "    </tr>\n",
       "    <tr>\n",
       "      <th>80</th>\n",
       "      <td>3.0</td>\n",
       "      <td>23.0</td>\n",
       "      <td>5.0</td>\n",
       "      <td>179.0</td>\n",
       "      <td>51.0</td>\n",
       "      <td>306345.0</td>\n",
       "      <td>93.0</td>\n",
       "      <td>1.0</td>\n",
       "      <td>11</td>\n",
       "      <td>8.0</td>\n",
       "      <td>...</td>\n",
       "      <td>3.0</td>\n",
       "      <td>0.0</td>\n",
       "      <td>3.0</td>\n",
       "      <td>0.0</td>\n",
       "      <td>3.0</td>\n",
       "      <td>-1.0</td>\n",
       "      <td>4.0</td>\n",
       "      <td>2.0</td>\n",
       "      <td>2.0</td>\n",
       "      <td>0.0</td>\n",
       "    </tr>\n",
       "  </tbody>\n",
       "</table>\n",
       "<p>5 rows × 25 columns</p>\n",
       "</div>"
      ],
      "text/plain": [
       "     ID Reason for absence Day of the week  Transportation expense  \\\n",
       "60  3.0               23.0             6.0                   179.0   \n",
       "62  3.0               23.0             3.0                   179.0   \n",
       "66  3.0               23.0             6.0                   179.0   \n",
       "72  3.0               23.0             4.0                   179.0   \n",
       "80  3.0               23.0             5.0                   179.0   \n",
       "\n",
       "    Distance from Residence to Work  Work load Average/day   Hit target  \\\n",
       "60                             51.0                241476.0        92.0   \n",
       "62                             51.0                253465.0        93.0   \n",
       "66                             51.0                253465.0        93.0   \n",
       "72                             51.0                253465.0        93.0   \n",
       "80                             51.0                306345.0        93.0   \n",
       "\n",
       "    Absenteeism time in hours  month_no  Last_month_absent        ...          \\\n",
       "60                        3.0         9                3.0        ...           \n",
       "62                        3.0        10                3.0        ...           \n",
       "66                        3.0        10                3.0        ...           \n",
       "72                        8.0        10                3.0        ...           \n",
       "80                        1.0        11                8.0        ...           \n",
       "\n",
       "    Last-3_month_absent  Last-3_month_Diff  Last-4_month_absent  \\\n",
       "60                  2.0                0.0                  2.0   \n",
       "62                  4.0                2.0                  2.0   \n",
       "66                  3.0               -1.0                  4.0   \n",
       "72                  3.0                0.0                  3.0   \n",
       "80                  3.0                0.0                  3.0   \n",
       "\n",
       "    Last-4_month_Diff  Last-5_month_absent  Last-5_month_Diff  \\\n",
       "60                0.0                  2.0               -2.0   \n",
       "62                0.0                  2.0                0.0   \n",
       "66                2.0                  2.0                0.0   \n",
       "72               -1.0                  4.0                2.0   \n",
       "80                0.0                  3.0               -1.0   \n",
       "\n",
       "    Last-6_month_absent  Last-6_month_Diff  Last-7_month_absent  \\\n",
       "60                  4.0                2.0                  2.0   \n",
       "62                  2.0               -2.0                  4.0   \n",
       "66                  2.0                0.0                  2.0   \n",
       "72                  2.0                0.0                  2.0   \n",
       "80                  4.0                2.0                  2.0   \n",
       "\n",
       "    Last-7_month_Diff  \n",
       "60                0.0  \n",
       "62                2.0  \n",
       "66               -2.0  \n",
       "72                0.0  \n",
       "80                0.0  \n",
       "\n",
       "[5 rows x 25 columns]"
      ]
     },
     "execution_count": 85,
     "metadata": {},
     "output_type": "execute_result"
    }
   ],
   "source": [
    "# feature engineering increasing number of shifts(data as lag as of previous 8 months is included) in data and\n",
    "#calculating diff of these shifts\n",
    "\n",
    "absent4 = absent1.copy()\n",
    "#\n",
    "absent4['Last_month_absent'] = absent4.groupby(['Reason for absence',\"ID\"])['Absenteeism time in hours'].shift()\n",
    "absent4['Last_month_Diff'] = absent4.groupby(['Reason for absence','ID'])['Last_month_absent'].diff()\n",
    "#\n",
    "for i in range(1,8):\n",
    "    absent4['Last-'+str(i)+'_month_absent'] = absent4.groupby(['Reason for absence','ID'])['Absenteeism time in hours'].shift(i+1)\n",
    "    absent4['Last-'+str(i)+'_month_Diff'] = absent4.groupby(['Reason for absence','ID'])['Last-'+str(i)+'_month_absent'].diff()\n",
    "\n",
    "absent4 = absent4.dropna()\n",
    "absent4.head()"
   ]
  },
  {
   "cell_type": "code",
   "execution_count": 86,
   "metadata": {
    "scrolled": true
   },
   "outputs": [
    {
     "name": "stdout",
     "output_type": "stream",
     "text": [
      "month 32 - Error 0.17898 - total absent hours 3.78\n",
      "month 33 - Error 0.62291 - total absent hours 18.16\n",
      "month 34 - Error 0.28408 - total absent hours 12.63\n",
      "month 35 - Error 0.48577 - total absent hours 13.27\n",
      "month 36 - Error 0.26452 - total absent hours 17.15\n",
      "month 37 - Error 0.29403 - total absent hours 5.43\n",
      "month 38 - Error 0.13188 - total absent hours 31.70\n",
      "month 39 - Error 0.59615 - total absent hours 79.09\n",
      "month 40 - Error 0.15444 - total absent hours 2.50\n",
      "month 41 - Error 0.30405 - total absent hours 21.01\n",
      "month 42 - Error 0.14431 - total absent hours 9.72\n",
      "month 43 - Error 0.41664 - total absent hours 11.99\n",
      "Mean Error = 0.32315\n"
     ]
    }
   ],
   "source": [
    "# creating Model using Random forest\n",
    "\n",
    "from sklearn.ensemble import RandomForestRegressor\n",
    "mean_error = []\n",
    "for month in range(32,44):\n",
    "    train = absent4[absent4['month_no'] < month]\n",
    "    val = absent4[absent4['month_no'] == month]\n",
    "    \n",
    "    xtr, xts = train.drop(['Absenteeism time in hours'], axis=1), val.drop(['Absenteeism time in hours'], axis=1)\n",
    "    ytr, yts = train['Absenteeism time in hours'].values, val['Absenteeism time in hours'].values\n",
    "    \n",
    "    mdl = RandomForestRegressor(n_estimators=1000, n_jobs=-1, random_state=0)\n",
    "    mdl.fit(xtr, ytr)\n",
    "    p = mdl.predict(xts)\n",
    "    total=p.sum()\n",
    "   \n",
    "\n",
    "    error = rmsle(yts, p)\n",
    "\n",
    "    print('month %d - Error %.5f - total absent hours %.2f' % (month, error,total))\n",
    "   \n",
    "    mean_error.append(error)\n",
    "print('Mean Error = %.5f' % np.mean(mean_error))"
   ]
  },
  {
   "cell_type": "code",
   "execution_count": 87,
   "metadata": {
    "scrolled": false
   },
   "outputs": [
    {
     "name": "stdout",
     "output_type": "stream",
     "text": [
      "month 32 - Error 0.12313 - total absent hours 3.52\n",
      "month 33 - Error 0.38978 - total absent hours 11.06\n",
      "month 34 - Error 0.20932 - total absent hours 7.45\n",
      "month 35 - Error 0.38837 - total absent hours 11.04\n",
      "month 36 - Error 0.27719 - total absent hours 13.73\n",
      "month 37 - Error 0.38891 - total absent hours 4.57\n",
      "month 38 - Error 0.13012 - total absent hours 31.14\n",
      "month 39 - Error 0.35370 - total absent hours 58.46\n",
      "month 40 - Error 0.13730 - total absent hours 2.44\n",
      "month 41 - Error 0.32625 - total absent hours 18.25\n",
      "month 42 - Error 0.17491 - total absent hours 8.96\n",
      "month 43 - Error 0.49608 - total absent hours 9.39\n",
      "Mean Error = 0.28292\n"
     ]
    }
   ],
   "source": [
    "# Final Model\n",
    "# creating Model using Random forest taking log of input variable\n",
    "\n",
    "from sklearn.ensemble import RandomForestRegressor\n",
    "\n",
    "mean_error = []\n",
    "total_hours_pred=[]\n",
    "total_hours_actual=[]\n",
    "\n",
    "for month in range(32,44):\n",
    "    train = absent4[absent4['month_no'] < month]\n",
    "    val = absent4[absent4['month_no'] == month]\n",
    "    \n",
    "    xtr, xts = train.drop(['Absenteeism time in hours'], axis=1), val.drop(['Absenteeism time in hours'], axis=1)\n",
    "    ytr, yts = train['Absenteeism time in hours'].values, val['Absenteeism time in hours'].values\n",
    "    \n",
    "    mdl = RandomForestRegressor(n_estimators=1000, n_jobs=-1, random_state=0)\n",
    "    mdl.fit(xtr, np.log1p(ytr))\n",
    "    \n",
    "    totalA=yts.sum()\n",
    "    total_hours_actual.append(totalA)\n",
    "    \n",
    "    p = np.expm1(mdl.predict(xts))\n",
    "    total=p.sum()\n",
    "    total_hours_pred.append(total)\n",
    "    \n",
    "    error = rmsle(yts, p)\n",
    "\n",
    "    print('month %d - Error %.5f - total absent hours %.2f' % (month, error,total))\n",
    "    mean_error.append(error)\n",
    "print('Mean Error = %.5f' % np.mean(mean_error))"
   ]
  },
  {
   "cell_type": "code",
   "execution_count": 88,
   "metadata": {},
   "outputs": [
    {
     "data": {
      "image/png": "[encoded data removed]",
      "text/plain": [
       "<Figure size 432x288 with 1 Axes>"
      ]
     },
     "metadata": {},
     "output_type": "display_data"
    }
   ],
   "source": [
    "fig , ax =plt.subplots()\n",
    "ax.plot(total_hours_actual,label='Actual')\n",
    "ax.plot(total_hours_pred, color='red',label='Predicted')\n",
    "leg=ax.legend();"
   ]
  },
  {
   "cell_type": "code",
   "execution_count": 89,
   "metadata": {},
   "outputs": [
    {
     "name": "stdout",
     "output_type": "stream",
     "text": [
      "month 32 - Error 0.20492 - total absent hours 3.91\n",
      "month 33 - Error 0.51560 - total absent hours 13.43\n",
      "month 34 - Error 0.43315 - total absent hours 4.95\n",
      "month 35 - Error 0.39714 - total absent hours 9.25\n",
      "month 36 - Error 0.25798 - total absent hours 16.06\n",
      "month 37 - Error 0.24017 - total absent hours 5.86\n",
      "month 38 - Error 0.22301 - total absent hours 32.01\n",
      "month 39 - Error 0.44608 - total absent hours 68.98\n",
      "month 40 - Error 0.12996 - total absent hours 2.42\n",
      "month 41 - Error 0.35505 - total absent hours 16.69\n",
      "month 42 - Error 0.26801 - total absent hours 7.14\n",
      "month 43 - Error 0.45201 - total absent hours 9.73\n",
      "Mean Error = 0.32692\n"
     ]
    }
   ],
   "source": [
    "# creating Model using Gradient boosting \n",
    "import lightgbm as lgb\n",
    "total_hours = []\n",
    "mean_error = []\n",
    "for month in range(32,44):\n",
    "    train = absent4[absent4['month_no'] < month]\n",
    "    val = absent4[absent4['month_no'] == month]\n",
    "    \n",
    "    xtr, xts = train.drop(['Absenteeism time in hours'], axis=1), val.drop(['Absenteeism time in hours'], axis=1)\n",
    "    ytr, yts = train['Absenteeism time in hours'].values, val['Absenteeism time in hours'].values\n",
    "    \n",
    "    mdl = lgb.LGBMRegressor(n_estimators=1000, learning_rate=0.01)\n",
    "    mdl.fit(xtr, np.log1p(ytr))\n",
    "    \n",
    "    p = np.expm1(mdl.predict(xts))\n",
    "    total=p.sum()\n",
    "    total_hours.append(total)\n",
    "    error = rmsle(yts, p)\n",
    "    print('month %d - Error %.5f - total absent hours %.2f' % (month, error,total))\n",
    "    \n",
    "    mean_error.append(error)\n",
    "print('Mean Error = %.5f' % np.mean(mean_error))"
   ]
  },
  {
   "cell_type": "code",
   "execution_count": 90,
   "metadata": {},
   "outputs": [
    {
     "name": "stdout",
     "output_type": "stream",
     "text": [
      "month 32 - Error 0.08926 - total absent hours 3.37\n",
      "month 33 - Error 0.45348 - total absent hours 13.34\n",
      "month 34 - Error 0.10738 - total absent hours 9.29\n",
      "month 35 - Error 0.49067 - total absent hours 11.92\n",
      "month 36 - Error 0.24718 - total absent hours 17.42\n",
      "month 37 - Error 0.47244 - total absent hours 3.92\n",
      "month 38 - Error 0.12814 - total absent hours 29.52\n",
      "month 39 - Error 0.24607 - total absent hours 52.61\n",
      "month 40 - Error 0.07192 - total absent hours 2.22\n",
      "month 41 - Error 0.30651 - total absent hours 17.46\n",
      "month 42 - Error 0.19120 - total absent hours 8.37\n",
      "month 43 - Error 0.59320 - total absent hours 7.80\n",
      "Mean Error = 0.28312\n"
     ]
    }
   ],
   "source": [
    "# creating Model using Ada Boosting\n",
    "from sklearn.tree import DecisionTreeRegressor\n",
    "from sklearn.ensemble import AdaBoostRegressor\n",
    "mean_error = []\n",
    "total_hours= []\n",
    "for month in range(32,44):\n",
    "    train = absent4[absent4['month_no'] < month]\n",
    "    val = absent4[absent4['month_no'] == month]\n",
    "    \n",
    "    xtr, xts = train.drop(['Absenteeism time in hours'], axis=1), val.drop(['Absenteeism time in hours'], axis=1)\n",
    "    ytr, yts = train['Absenteeism time in hours'].values, val['Absenteeism time in hours'].values\n",
    "    \n",
    "    mdl =  AdaBoostRegressor(DecisionTreeRegressor(max_depth=4),n_estimators=1000, random_state=0)\n",
    "\n",
    "    mdl.fit(xtr, np.log1p(ytr))\n",
    "    \n",
    "    p = np.expm1(mdl.predict(xts))\n",
    "    total=p.sum()\n",
    "    total_hours.append(total)\n",
    "    error = rmsle(yts, p)\n",
    "    print('month %d - Error %.5f - total absent hours %.2f' % (month, error,total))\n",
    "    \n",
    "    mean_error.append(error)\n",
    "print('Mean Error = %.5f' % np.mean(mean_error))"
   ]
  },
  {
   "cell_type": "markdown",
   "metadata": {},
   "source": [
    "### Modifying above model to Forecast Total number of absent hours of employees for the next 12 months"
   ]
  },
  {
   "cell_type": "code",
   "execution_count": 91,
   "metadata": {},
   "outputs": [],
   "source": [
    "#  Creating a copy of dataframe\n",
    "absent5=absent1.copy()"
   ]
  },
  {
   "cell_type": "code",
   "execution_count": 92,
   "metadata": {},
   "outputs": [],
   "source": [
    "# grouping by month_no\n",
    "absent5=absent5.groupby(['month_no']).sum()"
   ]
  },
  {
   "cell_type": "code",
   "execution_count": 93,
   "metadata": {},
   "outputs": [],
   "source": [
    "# Dropping variables\n",
    "absent5=absent5.drop([ 'Transportation expense','Distance from Residence to Work', 'Work load Average/day ',\n",
    "       'Hit target'],axis=1)"
   ]
  },
  {
   "cell_type": "code",
   "execution_count": 94,
   "metadata": {},
   "outputs": [],
   "source": [
    "# reseting Index\n",
    "absent5=absent5.reset_index(level='month_no')"
   ]
  },
  {
   "cell_type": "code",
   "execution_count": 95,
   "metadata": {},
   "outputs": [
    {
     "data": {
      "text/html": [
       "<div>\n",
       "<style scoped>\n",
       "    .dataframe tbody tr th:only-of-type {\n",
       "        vertical-align: middle;\n",
       "    }\n",
       "\n",
       "    .dataframe tbody tr th {\n",
       "        vertical-align: top;\n",
       "    }\n",
       "\n",
       "    .dataframe thead th {\n",
       "        text-align: right;\n",
       "    }\n",
       "</style>\n",
       "<table border=\"1\" class=\"dataframe\">\n",
       "  <thead>\n",
       "    <tr style=\"text-align: right;\">\n",
       "      <th></th>\n",
       "      <th>month_no</th>\n",
       "      <th>Absenteeism time in hours</th>\n",
       "    </tr>\n",
       "  </thead>\n",
       "  <tbody>\n",
       "    <tr>\n",
       "      <th>0</th>\n",
       "      <td>7</td>\n",
       "      <td>125.0</td>\n",
       "    </tr>\n",
       "    <tr>\n",
       "      <th>1</th>\n",
       "      <td>8</td>\n",
       "      <td>140.0</td>\n",
       "    </tr>\n",
       "    <tr>\n",
       "      <th>2</th>\n",
       "      <td>9</td>\n",
       "      <td>88.0</td>\n",
       "    </tr>\n",
       "    <tr>\n",
       "      <th>3</th>\n",
       "      <td>10</td>\n",
       "      <td>73.0</td>\n",
       "    </tr>\n",
       "    <tr>\n",
       "      <th>4</th>\n",
       "      <td>11</td>\n",
       "      <td>161.0</td>\n",
       "    </tr>\n",
       "    <tr>\n",
       "      <th>5</th>\n",
       "      <td>12</td>\n",
       "      <td>177.0</td>\n",
       "    </tr>\n",
       "    <tr>\n",
       "      <th>6</th>\n",
       "      <td>13</td>\n",
       "      <td>60.0</td>\n",
       "    </tr>\n",
       "    <tr>\n",
       "      <th>7</th>\n",
       "      <td>14</td>\n",
       "      <td>71.0</td>\n",
       "    </tr>\n",
       "    <tr>\n",
       "      <th>8</th>\n",
       "      <td>15</td>\n",
       "      <td>281.0</td>\n",
       "    </tr>\n",
       "    <tr>\n",
       "      <th>9</th>\n",
       "      <td>16</td>\n",
       "      <td>194.0</td>\n",
       "    </tr>\n",
       "    <tr>\n",
       "      <th>10</th>\n",
       "      <td>17</td>\n",
       "      <td>8.0</td>\n",
       "    </tr>\n",
       "    <tr>\n",
       "      <th>11</th>\n",
       "      <td>19</td>\n",
       "      <td>137.0</td>\n",
       "    </tr>\n",
       "    <tr>\n",
       "      <th>12</th>\n",
       "      <td>20</td>\n",
       "      <td>64.0</td>\n",
       "    </tr>\n",
       "    <tr>\n",
       "      <th>13</th>\n",
       "      <td>22</td>\n",
       "      <td>175.0</td>\n",
       "    </tr>\n",
       "    <tr>\n",
       "      <th>14</th>\n",
       "      <td>23</td>\n",
       "      <td>213.0</td>\n",
       "    </tr>\n",
       "    <tr>\n",
       "      <th>15</th>\n",
       "      <td>24</td>\n",
       "      <td>69.0</td>\n",
       "    </tr>\n",
       "    <tr>\n",
       "      <th>16</th>\n",
       "      <td>25</td>\n",
       "      <td>74.0</td>\n",
       "    </tr>\n",
       "    <tr>\n",
       "      <th>17</th>\n",
       "      <td>26</td>\n",
       "      <td>106.0</td>\n",
       "    </tr>\n",
       "    <tr>\n",
       "      <th>18</th>\n",
       "      <td>27</td>\n",
       "      <td>127.0</td>\n",
       "    </tr>\n",
       "    <tr>\n",
       "      <th>19</th>\n",
       "      <td>28</td>\n",
       "      <td>174.0</td>\n",
       "    </tr>\n",
       "    <tr>\n",
       "      <th>20</th>\n",
       "      <td>29</td>\n",
       "      <td>67.0</td>\n",
       "    </tr>\n",
       "    <tr>\n",
       "      <th>21</th>\n",
       "      <td>30</td>\n",
       "      <td>122.0</td>\n",
       "    </tr>\n",
       "    <tr>\n",
       "      <th>22</th>\n",
       "      <td>31</td>\n",
       "      <td>204.0</td>\n",
       "    </tr>\n",
       "    <tr>\n",
       "      <th>23</th>\n",
       "      <td>32</td>\n",
       "      <td>76.0</td>\n",
       "    </tr>\n",
       "    <tr>\n",
       "      <th>24</th>\n",
       "      <td>33</td>\n",
       "      <td>41.0</td>\n",
       "    </tr>\n",
       "    <tr>\n",
       "      <th>25</th>\n",
       "      <td>34</td>\n",
       "      <td>92.0</td>\n",
       "    </tr>\n",
       "    <tr>\n",
       "      <th>26</th>\n",
       "      <td>35</td>\n",
       "      <td>99.0</td>\n",
       "    </tr>\n",
       "    <tr>\n",
       "      <th>27</th>\n",
       "      <td>36</td>\n",
       "      <td>144.0</td>\n",
       "    </tr>\n",
       "    <tr>\n",
       "      <th>28</th>\n",
       "      <td>37</td>\n",
       "      <td>80.0</td>\n",
       "    </tr>\n",
       "    <tr>\n",
       "      <th>29</th>\n",
       "      <td>38</td>\n",
       "      <td>101.0</td>\n",
       "    </tr>\n",
       "    <tr>\n",
       "      <th>30</th>\n",
       "      <td>39</td>\n",
       "      <td>240.0</td>\n",
       "    </tr>\n",
       "    <tr>\n",
       "      <th>31</th>\n",
       "      <td>40</td>\n",
       "      <td>114.0</td>\n",
       "    </tr>\n",
       "    <tr>\n",
       "      <th>32</th>\n",
       "      <td>41</td>\n",
       "      <td>234.0</td>\n",
       "    </tr>\n",
       "    <tr>\n",
       "      <th>33</th>\n",
       "      <td>42</td>\n",
       "      <td>98.0</td>\n",
       "    </tr>\n",
       "    <tr>\n",
       "      <th>34</th>\n",
       "      <td>43</td>\n",
       "      <td>136.0</td>\n",
       "    </tr>\n",
       "  </tbody>\n",
       "</table>\n",
       "</div>"
      ],
      "text/plain": [
       "    month_no  Absenteeism time in hours\n",
       "0          7                      125.0\n",
       "1          8                      140.0\n",
       "2          9                       88.0\n",
       "3         10                       73.0\n",
       "4         11                      161.0\n",
       "5         12                      177.0\n",
       "6         13                       60.0\n",
       "7         14                       71.0\n",
       "8         15                      281.0\n",
       "9         16                      194.0\n",
       "10        17                        8.0\n",
       "11        19                      137.0\n",
       "12        20                       64.0\n",
       "13        22                      175.0\n",
       "14        23                      213.0\n",
       "15        24                       69.0\n",
       "16        25                       74.0\n",
       "17        26                      106.0\n",
       "18        27                      127.0\n",
       "19        28                      174.0\n",
       "20        29                       67.0\n",
       "21        30                      122.0\n",
       "22        31                      204.0\n",
       "23        32                       76.0\n",
       "24        33                       41.0\n",
       "25        34                       92.0\n",
       "26        35                       99.0\n",
       "27        36                      144.0\n",
       "28        37                       80.0\n",
       "29        38                      101.0\n",
       "30        39                      240.0\n",
       "31        40                      114.0\n",
       "32        41                      234.0\n",
       "33        42                       98.0\n",
       "34        43                      136.0"
      ]
     },
     "execution_count": 95,
     "metadata": {},
     "output_type": "execute_result"
    }
   ],
   "source": [
    "absent5"
   ]
  },
  {
   "cell_type": "code",
   "execution_count": 96,
   "metadata": {},
   "outputs": [
    {
     "name": "stdout",
     "output_type": "stream",
     "text": [
      "month 32 - Error 0.53596 - actual 76.00 - pred 130.60\n",
      "month 33 - Error 1.15397 - actual 41.00 - pred 132.17\n",
      "month 34 - Error 0.00363 - actual 92.00 - pred 92.34\n",
      "month 35 - Error 0.03269 - actual 99.00 - pred 102.32\n",
      "month 36 - Error 0.05367 - actual 144.00 - pred 152.00\n",
      "month 37 - Error 0.25568 - actual 80.00 - pred 103.60\n",
      "month 38 - Error 0.17270 - actual 101.00 - pred 84.82\n",
      "month 39 - Error 0.80209 - actual 240.00 - pred 107.06\n",
      "month 40 - Error 0.01730 - actual 114.00 - pred 116.01\n",
      "month 41 - Error 1.01566 - actual 234.00 - pred 84.11\n",
      "month 42 - Error 0.29068 - actual 98.00 - pred 131.40\n",
      "month 43 - Error 0.42889 - actual 136.00 - pred 88.22\n",
      "Mean Error = 0.39691\n"
     ]
    }
   ],
   "source": [
    "from sklearn.ensemble import RandomForestRegressor\n",
    "mean_error = []\n",
    "total_hours_pred=[]\n",
    "total_hours_actual=[]\n",
    "\n",
    "absent7 =pd.DataFrame(columns=[\"month_no\",\"Absenteeism time in hours\"])\n",
    "\n",
    "for month in range(32,56):\n",
    "    if (month>43) :\n",
    "        absent5.loc[len(absent5)]=[month,0]\n",
    "   \n",
    "    # Calculating lags and difference    \n",
    "   \n",
    "    absent6 = absent5.copy()\n",
    "\n",
    "    absent6['Last_month_absent'] = absent6['Absenteeism time in hours'].shift()\n",
    "    absent6['Last_month_Diff'] = absent6['Last_month_absent'].diff()\n",
    "\n",
    "    for i in range(1,12):\n",
    "        absent6['Last-'+str(i)+'_month_absent'] = absent6['Absenteeism time in hours'].shift(i+1)\n",
    "        absent6['Last-'+str(i)+'_month_Diff'] = absent6['Last-'+str(i)+'_month_absent'].diff()\n",
    "\n",
    "    absent6 = absent6.dropna()    \n",
    "   \n",
    "    # Dividing data into train and validation \n",
    "    \n",
    "    train = absent6[absent6['month_no'] < month]\n",
    "    val = absent6[absent6['month_no'] == month]\n",
    "    \n",
    "    xtr, xts = train.drop(['Absenteeism time in hours'], axis=1), val.drop(['Absenteeism time in hours'], axis=1)\n",
    "    ytr, yts = train['Absenteeism time in hours'].values, val['Absenteeism time in hours'].values\n",
    "    \n",
    "    #  Training Model\n",
    "    mdl = RandomForestRegressor(n_estimators=1000, n_jobs=-1, random_state=0)\n",
    "    mdl.fit(xtr, np.log1p(ytr))\n",
    "    \n",
    "    \n",
    "    total_hours_actual.append(yts)\n",
    "    \n",
    "    # making Prediction\n",
    "    p = np.expm1(mdl.predict(xts))\n",
    "\n",
    "    total_hours_pred.append(p)\n",
    "    if (month>43):\n",
    "        absent5.loc[(len(absent5)-1),\"Absenteeism time in hours\"]=p\n",
    "        absent7.loc[len(absent7)]=[month,p]\n",
    "    \n",
    "    #  Checking Error\n",
    "    if (month<44):\n",
    "        error = rmsle(yts, p)\n",
    "        print('month %d - Error %.5f - actual %.2f - pred %.2f' % (month, error,yts,p))\n",
    "        mean_error.append(error)\n",
    "print('Mean Error = %.5f' % np.mean(mean_error))\n"
   ]
  },
  {
   "cell_type": "code",
   "execution_count": 97,
   "metadata": {},
   "outputs": [
    {
     "data": {
      "image/png": "[encoded data removed]",
      "text/plain": [
       "<Figure size 432x288 with 1 Axes>"
      ]
     },
     "metadata": {},
     "output_type": "display_data"
    }
   ],
   "source": [
    "fig , ax =plt.subplots()\n",
    "ax.plot(total_hours_actual,label='Actual')\n",
    "ax.plot(total_hours_pred, color='red',label='Predicted')\n",
    "leg=ax.legend();"
   ]
  },
  {
   "cell_type": "code",
   "execution_count": 98,
   "metadata": {},
   "outputs": [
    {
     "data": {
      "text/html": [
       "<div>\n",
       "<style scoped>\n",
       "    .dataframe tbody tr th:only-of-type {\n",
       "        vertical-align: middle;\n",
       "    }\n",
       "\n",
       "    .dataframe tbody tr th {\n",
       "        vertical-align: top;\n",
       "    }\n",
       "\n",
       "    .dataframe thead th {\n",
       "        text-align: right;\n",
       "    }\n",
       "</style>\n",
       "<table border=\"1\" class=\"dataframe\">\n",
       "  <thead>\n",
       "    <tr style=\"text-align: right;\">\n",
       "      <th></th>\n",
       "      <th>month_no</th>\n",
       "      <th>Absenteeism time in hours</th>\n",
       "    </tr>\n",
       "  </thead>\n",
       "  <tbody>\n",
       "    <tr>\n",
       "      <th>0</th>\n",
       "      <td>44</td>\n",
       "      <td>162</td>\n",
       "    </tr>\n",
       "    <tr>\n",
       "      <th>1</th>\n",
       "      <td>45</td>\n",
       "      <td>107</td>\n",
       "    </tr>\n",
       "    <tr>\n",
       "      <th>2</th>\n",
       "      <td>46</td>\n",
       "      <td>115</td>\n",
       "    </tr>\n",
       "    <tr>\n",
       "      <th>3</th>\n",
       "      <td>47</td>\n",
       "      <td>112</td>\n",
       "    </tr>\n",
       "    <tr>\n",
       "      <th>4</th>\n",
       "      <td>48</td>\n",
       "      <td>114</td>\n",
       "    </tr>\n",
       "    <tr>\n",
       "      <th>5</th>\n",
       "      <td>49</td>\n",
       "      <td>123</td>\n",
       "    </tr>\n",
       "    <tr>\n",
       "      <th>6</th>\n",
       "      <td>50</td>\n",
       "      <td>98</td>\n",
       "    </tr>\n",
       "    <tr>\n",
       "      <th>7</th>\n",
       "      <td>51</td>\n",
       "      <td>100</td>\n",
       "    </tr>\n",
       "    <tr>\n",
       "      <th>8</th>\n",
       "      <td>52</td>\n",
       "      <td>106</td>\n",
       "    </tr>\n",
       "    <tr>\n",
       "      <th>9</th>\n",
       "      <td>53</td>\n",
       "      <td>105</td>\n",
       "    </tr>\n",
       "    <tr>\n",
       "      <th>10</th>\n",
       "      <td>54</td>\n",
       "      <td>110</td>\n",
       "    </tr>\n",
       "    <tr>\n",
       "      <th>11</th>\n",
       "      <td>55</td>\n",
       "      <td>104</td>\n",
       "    </tr>\n",
       "  </tbody>\n",
       "</table>\n",
       "</div>"
      ],
      "text/plain": [
       "   month_no  Absenteeism time in hours\n",
       "0        44                        162\n",
       "1        45                        107\n",
       "2        46                        115\n",
       "3        47                        112\n",
       "4        48                        114\n",
       "5        49                        123\n",
       "6        50                         98\n",
       "7        51                        100\n",
       "8        52                        106\n",
       "9        53                        105\n",
       "10       54                        110\n",
       "11       55                        104"
      ]
     },
     "execution_count": 98,
     "metadata": {},
     "output_type": "execute_result"
    }
   ],
   "source": [
    "### Total number of employee absent hours forecasted for the next 12 months\n",
    "\n",
    "absent7['Absenteeism time in hours']=absent7['Absenteeism time in hours'].astype(int)\n",
    "absent7"
   ]
  },
  {
   "cell_type": "code",
   "execution_count": null,
   "metadata": {},
   "outputs": [],
   "source": []
  }
 ],
 "metadata": {
  "anaconda-cloud": {},
  "kernelspec": {
   "display_name": "Python 3",
   "language": "python",
   "name": "python3"
  },
  "language_info": {
   "codemirror_mode": {
    "name": "ipython",
    "version": 3
   },
   "file_extension": ".py",
   "mimetype": "text/x-python",
   "name": "python",
   "nbconvert_exporter": "python",
   "pygments_lexer": "ipython3",
   "version": "3.6.5"
  }
 },
 "nbformat": 4,
 "nbformat_minor": 1
}
